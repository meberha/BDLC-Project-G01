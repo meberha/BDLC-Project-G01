{
 "cells": [
  {
   "cell_type": "markdown",
   "id": "7cb6f24f-2069-4246-a64c-27adb3129a76",
   "metadata": {},
   "source": [
    "# Quellen"
   ]
  },
  {
   "cell_type": "markdown",
   "id": "e2fdc4f1-8332-4166-a181-a8d9af6bbac4",
   "metadata": {},
   "source": [
    "Für die Arbeit haben wir folgende Plattformen verwendet:"
   ]
  },
  {
   "cell_type": "markdown",
   "id": "b1805893-c3a3-45b6-b8a7-528379b2a3cc",
   "metadata": {},
   "source": [
    "SPARK uns SPARK-SQL Dokumentation: https://spark.apache.org/docs/latest/api/python/reference/index.html\n",
    "\n",
    "Matplotlib: https://stackoverflow.com/questions/48062499/matplotlib-y-axis-values-are-not-ordered\n",
    "\n",
    "Round within SPARK: https://stackoverflow.com/questions/47046827/trouble-with-pyspark-round-function\n",
    "\n",
    "Parquet File: https://spark.apache.org/docs/latest/sql-data-sources-parquet.html\n",
    "\n",
    "Lesen und Schreiben von Parquet-Files: https://sparkbyexamples.com/spark/spark-read-write-dataframe-parquet-example/\n",
    "\n",
    "Null und NaN mit PaSpark: https://sparkbyexamples.com/pyspark/pyspark-find-count-of-null-none-nan-values/\n",
    "\n",
    "Parquet / Schema:\n",
    " - https://stackoverflow.com/questions/65132280/write-parquet-from-another-parquet-with-a-new-schema-using-pyspark\n",
    " - https://stackoverflow.com/questions/52387021/spark-read-parquet-with-custom-schema\n",
    " - https://stackoverflow.com/questions/50625165/change-schema-of-existing-dataframe\n",
    "\n",
    "und vieles mehr über Google (kein Code kopiert sondern verstanden)"
   ]
  },
  {
   "cell_type": "code",
   "execution_count": null,
   "id": "e5b546fd-c9a4-442d-9607-7ba0a157f50d",
   "metadata": {},
   "outputs": [],
   "source": []
  }
 ],
 "metadata": {
  "kernelspec": {
   "display_name": "Python 3 (ipykernel)",
   "language": "python",
   "name": "python3"
  },
  "language_info": {
   "codemirror_mode": {
    "name": "ipython",
    "version": 3
   },
   "file_extension": ".py",
   "mimetype": "text/x-python",
   "name": "python",
   "nbconvert_exporter": "python",
   "pygments_lexer": "ipython3",
   "version": "3.8.10"
  }
 },
 "nbformat": 4,
 "nbformat_minor": 5
}
