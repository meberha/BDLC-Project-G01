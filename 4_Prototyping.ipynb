{
 "cells": [
  {
   "cell_type": "markdown",
   "id": "b07c6ab8-3ba2-4682-a9ab-c11b0bb2c735",
   "metadata": {},
   "source": [
    "# Dataset\n",
    "## Vorbereitung: Einrichten der Arbeitsumgebung und Bereitstellen der Daten"
   ]
  },
  {
   "cell_type": "code",
   "execution_count": 12,
   "id": "e3e279e1-f3b7-4334-8bc6-f4bdee054f6a",
   "metadata": {},
   "outputs": [],
   "source": [
    "# !hdfs dfs -mkdir /airline-data"
   ]
  },
  {
   "cell_type": "code",
   "execution_count": 65,
   "id": "9cd8335b-69a6-405f-b910-92051bbe73a8",
   "metadata": {},
   "outputs": [
    {
     "name": "stdout",
     "output_type": "stream",
     "text": [
      "Found 2 items\n",
      "drwxr-xr-x   - cluster supergroup          0 2022-05-12 12:26 /airline-data\n",
      "drwxr-xr-x   - cluster supergroup          0 2022-05-05 12:04 /user\n"
     ]
    }
   ],
   "source": [
    "!hdfs dfs -ls /"
   ]
  },
  {
   "cell_type": "code",
   "execution_count": 67,
   "id": "8c3a6dfc-f1d7-4637-b285-9410c460dfd3",
   "metadata": {},
   "outputs": [],
   "source": [
    "# !hdfs dfs -put ~/BDLC-Project-G01/Dataset/airline.csv /airline-data\n",
    "# !hdfs dfs -put ~/BDLC-Project-G01/Dataset/carriers.txt /airline-data"
   ]
  },
  {
   "cell_type": "code",
   "execution_count": 68,
   "id": "f7e04a24-e08e-44c3-8c89-401cae68572a",
   "metadata": {},
   "outputs": [
    {
     "name": "stdout",
     "output_type": "stream",
     "text": [
      "Found 2 items\n",
      "-rw-r--r--   2 cluster supergroup 12029207752 2022-05-12 12:29 /airline-data/airline.csv\n",
      "-rw-r--r--   2 cluster supergroup       43758 2022-05-12 12:29 /airline-data/carriers.txt\n"
     ]
    }
   ],
   "source": [
    "!hdfs dfs -ls /airline-data"
   ]
  },
  {
   "cell_type": "markdown",
   "id": "c8cfbd90-b597-4dcc-ba6d-0f2f0ebc0229",
   "metadata": {},
   "source": [
    "## Erste Schritte: Schema inspizieren"
   ]
  },
  {
   "cell_type": "code",
   "execution_count": 69,
   "id": "e83a1a10-71b0-4f59-ac3f-57d936d6f89b",
   "metadata": {},
   "outputs": [],
   "source": [
    "from pyspark.sql import SparkSession"
   ]
  },
  {
   "cell_type": "code",
   "execution_count": 70,
   "id": "12167e7f-cf92-45ba-9692-e7a999983f3e",
   "metadata": {},
   "outputs": [],
   "source": [
    "spark = SparkSession.builder.appName('BabySteps').getOrCreate()"
   ]
  },
  {
   "cell_type": "code",
   "execution_count": 72,
   "id": "0dda4717-9b14-4c0e-bef8-b1eba012adf9",
   "metadata": {},
   "outputs": [
    {
     "name": "stderr",
     "output_type": "stream",
     "text": [
      "                                                                                \r"
     ]
    }
   ],
   "source": [
    "df_airlines = spark.read.csv('/airline-data/airline.csv', header=True)"
   ]
  },
  {
   "cell_type": "code",
   "execution_count": 73,
   "id": "d6b9bf4f-3b92-40f1-95e6-ceecf9378fc3",
   "metadata": {},
   "outputs": [
    {
     "name": "stdout",
     "output_type": "stream",
     "text": [
      "+-----------------+-------+--------+-------+----------+----------+--------------+----------------+---------+------------+---------+----------+--------+-------+----+--------+--------+---------+-----------------+-----+--------+------+-------------+-------+------+-------+-------------+------------+----+\n",
      "|ActualElapsedTime|AirTime|ArrDelay|ArrTime|CRSArrTime|CRSDepTime|CRSElapsedTime|CancellationCode|Cancelled|CarrierDelay|DayOfWeek|DayofMonth|DepDelay|DepTime|Dest|Distance|Diverted|FlightNum|LateAircraftDelay|Month|NASDelay|Origin|SecurityDelay|TailNum|TaxiIn|TaxiOut|UniqueCarrier|WeatherDelay|Year|\n",
      "+-----------------+-------+--------+-------+----------+----------+--------------+----------------+---------+------------+---------+----------+--------+-------+----+--------+--------+---------+-----------------+-----+--------+------+-------------+-------+------+-------+-------------+------------+----+\n",
      "|               53|     32|      -8|   1642|      1650|      1545|            65|              NA|        0|          NA|        4|        10|       4|   1549| PIT|     205|       0|      209|               NA|   10|      NA|   DCA|           NA| N443US|     7|     14|           US|          NA|2002|\n",
      "|              164|    155|     -11|   1754|      1805|      1610|           175|              NA|        0|          NA|        4|         2|       0|   1610| MCI|    1072|       0|      109|               NA|   12|      NA|   MCO|           NA|   N755|     2|      7|           WN|          NA|1999|\n",
      "+-----------------+-------+--------+-------+----------+----------+--------------+----------------+---------+------------+---------+----------+--------+-------+----+--------+--------+---------+-----------------+-----+--------+------+-------------+-------+------+-------+-------------+------------+----+\n",
      "only showing top 2 rows\n",
      "\n"
     ]
    }
   ],
   "source": [
    "df_airlines.show(2)"
   ]
  },
  {
   "cell_type": "code",
   "execution_count": 74,
   "id": "44e9b933-ea43-470d-b86a-aa157531a9bf",
   "metadata": {},
   "outputs": [
    {
     "name": "stdout",
     "output_type": "stream",
     "text": [
      "root\n",
      " |-- ActualElapsedTime: string (nullable = true)\n",
      " |-- AirTime: string (nullable = true)\n",
      " |-- ArrDelay: string (nullable = true)\n",
      " |-- ArrTime: string (nullable = true)\n",
      " |-- CRSArrTime: string (nullable = true)\n",
      " |-- CRSDepTime: string (nullable = true)\n",
      " |-- CRSElapsedTime: string (nullable = true)\n",
      " |-- CancellationCode: string (nullable = true)\n",
      " |-- Cancelled: string (nullable = true)\n",
      " |-- CarrierDelay: string (nullable = true)\n",
      " |-- DayOfWeek: string (nullable = true)\n",
      " |-- DayofMonth: string (nullable = true)\n",
      " |-- DepDelay: string (nullable = true)\n",
      " |-- DepTime: string (nullable = true)\n",
      " |-- Dest: string (nullable = true)\n",
      " |-- Distance: string (nullable = true)\n",
      " |-- Diverted: string (nullable = true)\n",
      " |-- FlightNum: string (nullable = true)\n",
      " |-- LateAircraftDelay: string (nullable = true)\n",
      " |-- Month: string (nullable = true)\n",
      " |-- NASDelay: string (nullable = true)\n",
      " |-- Origin: string (nullable = true)\n",
      " |-- SecurityDelay: string (nullable = true)\n",
      " |-- TailNum: string (nullable = true)\n",
      " |-- TaxiIn: string (nullable = true)\n",
      " |-- TaxiOut: string (nullable = true)\n",
      " |-- UniqueCarrier: string (nullable = true)\n",
      " |-- WeatherDelay: string (nullable = true)\n",
      " |-- Year: string (nullable = true)\n",
      "\n"
     ]
    }
   ],
   "source": [
    "df_airlines.printSchema()"
   ]
  },
  {
   "cell_type": "code",
   "execution_count": 75,
   "id": "fa5fc438-a575-4dc6-bb27-da4acaddb616",
   "metadata": {},
   "outputs": [],
   "source": [
    "spark.stop()"
   ]
  },
  {
   "cell_type": "markdown",
   "id": "1b99d9da-898f-4cd6-a903-36eab7492012",
   "metadata": {},
   "source": [
    "## Erste Schritte: Als Parquet speichern"
   ]
  },
  {
   "cell_type": "code",
   "execution_count": 76,
   "id": "d472aac1-210d-418f-a19f-1fb4ee184740",
   "metadata": {},
   "outputs": [],
   "source": [
    "from pyspark.sql import SparkSession"
   ]
  },
  {
   "cell_type": "code",
   "execution_count": 77,
   "id": "6e6ec9f7-afd1-46a9-9645-4a2c80910fbf",
   "metadata": {},
   "outputs": [],
   "source": [
    "spark = SparkSession.builder.appName('ConvertToParquet').getOrCreate()"
   ]
  },
  {
   "cell_type": "code",
   "execution_count": 78,
   "id": "d256ed2e-eb8e-4014-935a-e727ad23f525",
   "metadata": {},
   "outputs": [
    {
     "name": "stdout",
     "output_type": "stream",
     "text": [
      "Found 2 items\n",
      "-rw-r--r--   2 cluster supergroup 12029207752 2022-05-12 12:29 /airline-data/airline.csv\n",
      "-rw-r--r--   2 cluster supergroup       43758 2022-05-12 12:29 /airline-data/carriers.txt\n"
     ]
    }
   ],
   "source": [
    "!hdfs dfs -ls /airline-data/"
   ]
  },
  {
   "cell_type": "markdown",
   "id": "972b1ad0-46d6-4ba0-832f-6b3cd616d309",
   "metadata": {},
   "source": [
    "### Parquet File schreiben\n",
    "Repartitionfaktor: 4x Anzahl von Cores im Cluster rsp. 55 für die verfügbaren Cores"
   ]
  },
  {
   "cell_type": "code",
   "execution_count": 79,
   "id": "c32a2d11-0784-4ef7-844e-f43f15fbcb21",
   "metadata": {},
   "outputs": [
    {
     "name": "stderr",
     "output_type": "stream",
     "text": [
      "                                                                                \r"
     ]
    }
   ],
   "source": [
    "spark.read.csv('/airline-data/airline.csv', header=True).repartition(55).write.parquet('/airline-data/airline.parquet')"
   ]
  },
  {
   "cell_type": "code",
   "execution_count": 80,
   "id": "f752249b-b137-4471-a4a6-1b9e5ca076e8",
   "metadata": {},
   "outputs": [
    {
     "name": "stdout",
     "output_type": "stream",
     "text": [
      "Found 3 items\n",
      "-rw-r--r--   2 cluster supergroup 12029207752 2022-05-12 12:29 /airline-data/airline.csv\n",
      "drwxr-xr-x   - cluster supergroup           0 2022-05-12 12:35 /airline-data/airline.parquet\n",
      "-rw-r--r--   2 cluster supergroup       43758 2022-05-12 12:29 /airline-data/carriers.txt\n"
     ]
    }
   ],
   "source": [
    "!hdfs dfs -ls /airline-data/"
   ]
  },
  {
   "cell_type": "markdown",
   "id": "d3d4603d-edcd-4324-9ddb-067baf97aaa9",
   "metadata": {},
   "source": [
    "### Raw File löschen"
   ]
  },
  {
   "cell_type": "code",
   "execution_count": 81,
   "id": "bb34441a-9817-402d-9d3c-18b79d89960e",
   "metadata": {},
   "outputs": [
    {
     "name": "stdout",
     "output_type": "stream",
     "text": [
      "Deleted /airline-data/airline.csv\n"
     ]
    }
   ],
   "source": [
    "!hdfs dfs -rm /airline-data/airline.csv"
   ]
  },
  {
   "cell_type": "code",
   "execution_count": 82,
   "id": "532c6ac4-16bf-4a3c-824b-0996128308f6",
   "metadata": {},
   "outputs": [
    {
     "name": "stdout",
     "output_type": "stream",
     "text": [
      "Found 2 items\n",
      "drwxr-xr-x   - cluster supergroup          0 2022-05-12 12:35 /airline-data/airline.parquet\n",
      "-rw-r--r--   2 cluster supergroup      43758 2022-05-12 12:29 /airline-data/carriers.txt\n"
     ]
    }
   ],
   "source": [
    "!hdfs dfs -ls /airline-data/"
   ]
  },
  {
   "cell_type": "code",
   "execution_count": 83,
   "id": "0454d260-8a6b-49e7-9ced-6a98c3e0d10a",
   "metadata": {},
   "outputs": [],
   "source": [
    "spark.stop()"
   ]
  },
  {
   "cell_type": "code",
   "execution_count": null,
   "id": "6427bdc9-68c4-4ff8-b085-3b3a1a44d92a",
   "metadata": {},
   "outputs": [],
   "source": []
  }
 ],
 "metadata": {
  "kernelspec": {
   "display_name": "Python 3 (ipykernel)",
   "language": "python",
   "name": "python3"
  },
  "language_info": {
   "codemirror_mode": {
    "name": "ipython",
    "version": 3
   },
   "file_extension": ".py",
   "mimetype": "text/x-python",
   "name": "python",
   "nbconvert_exporter": "python",
   "pygments_lexer": "ipython3",
   "version": "3.8.10"
  }
 },
 "nbformat": 4,
 "nbformat_minor": 5
}
