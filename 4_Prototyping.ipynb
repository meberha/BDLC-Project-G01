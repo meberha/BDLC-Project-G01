{
 "cells": [
  {
   "cell_type": "markdown",
   "id": "b07c6ab8-3ba2-4682-a9ab-c11b0bb2c735",
   "metadata": {
    "tags": []
   },
   "source": [
    "# Prototyping"
   ]
  },
  {
   "cell_type": "code",
   "execution_count": 1,
   "id": "e83a1a10-71b0-4f59-ac3f-57d936d6f89b",
   "metadata": {},
   "outputs": [],
   "source": [
    "import findspark\n",
    "from pyspark.sql import SparkSession\n",
    "from pyspark.sql.functions import col, isnan, when, count\n",
    "from pyspark.sql.types import StructType, StructField, IntegerType, StringType, BooleanType"
   ]
  },
  {
   "cell_type": "code",
   "execution_count": 2,
   "id": "12167e7f-cf92-45ba-9692-e7a999983f3e",
   "metadata": {},
   "outputs": [
    {
     "name": "stderr",
     "output_type": "stream",
     "text": [
      "Setting default log level to \"WARN\".\n",
      "To adjust logging level use sc.setLogLevel(newLevel). For SparkR, use setLogLevel(newLevel).\n",
      "2022-05-29 13:43:56,579 WARN util.NativeCodeLoader: Unable to load native-hadoop library for your platform... using builtin-java classes where applicable\n"
     ]
    }
   ],
   "source": [
    "findspark.init()\n",
    "spark = SparkSession.builder.appName('Prototyping').getOrCreate()"
   ]
  },
  {
   "cell_type": "markdown",
   "id": "a1734cca-7b3c-4a5b-a580-8eced5d78112",
   "metadata": {},
   "source": [
    "## Carriers File"
   ]
  },
  {
   "cell_type": "code",
   "execution_count": 3,
   "id": "0dda4717-9b14-4c0e-bef8-b1eba012adf9",
   "metadata": {},
   "outputs": [
    {
     "name": "stderr",
     "output_type": "stream",
     "text": [
      "                                                                                \r"
     ]
    }
   ],
   "source": [
    "df_carriers = spark.read.parquet('/airline-data/carriers.parquet')"
   ]
  },
  {
   "cell_type": "markdown",
   "id": "88af7281-aa42-48ff-9162-d0dd9735df3f",
   "metadata": {},
   "source": [
    "Gemäss Kaggle sollte das File zwei Spalten (Code und Description) enthalten sowie 1491 Zeilen haben. Alle Zeilen sollten Distinct sein."
   ]
  },
  {
   "cell_type": "code",
   "execution_count": 4,
   "id": "d6b9bf4f-3b92-40f1-95e6-ceecf9378fc3",
   "metadata": {},
   "outputs": [
    {
     "name": "stdout",
     "output_type": "stream",
     "text": [
      "root\n",
      " |-- Code: string (nullable = true)\n",
      " |-- Description: string (nullable = true)\n",
      "\n"
     ]
    }
   ],
   "source": [
    "df_carriers.printSchema()"
   ]
  },
  {
   "cell_type": "code",
   "execution_count": 5,
   "id": "4cb131d5-5782-489a-9843-faeb9055292a",
   "metadata": {},
   "outputs": [
    {
     "name": "stderr",
     "output_type": "stream",
     "text": [
      "                                                                                \r"
     ]
    },
    {
     "data": {
      "text/plain": [
       "1491"
      ]
     },
     "execution_count": 5,
     "metadata": {},
     "output_type": "execute_result"
    }
   ],
   "source": [
    "df_carriers.count()"
   ]
  },
  {
   "cell_type": "code",
   "execution_count": 6,
   "id": "d7168ba5-073e-4a3e-86df-d90a8172ddec",
   "metadata": {},
   "outputs": [
    {
     "name": "stderr",
     "output_type": "stream",
     "text": [
      "                                                                                \r"
     ]
    },
    {
     "data": {
      "text/plain": [
       "1491"
      ]
     },
     "execution_count": 6,
     "metadata": {},
     "output_type": "execute_result"
    }
   ],
   "source": [
    "df_carriers.select('Code').distinct().count()"
   ]
  },
  {
   "cell_type": "code",
   "execution_count": 7,
   "id": "c08c5ed5-1f45-42e3-9e52-4cac67dc9d56",
   "metadata": {},
   "outputs": [
    {
     "data": {
      "text/plain": [
       "1491"
      ]
     },
     "execution_count": 7,
     "metadata": {},
     "output_type": "execute_result"
    }
   ],
   "source": [
    "df_carriers.select('Description').distinct().count()"
   ]
  },
  {
   "cell_type": "markdown",
   "id": "58bb1c2d-d572-4204-ac4c-4825e3e5edf3",
   "metadata": {},
   "source": [
    "Da Count() und distinct().count() dieselben Werte liefern, können wir sicherstellen, dass keine Duplikate vorhanden sind."
   ]
  },
  {
   "cell_type": "code",
   "execution_count": 8,
   "id": "8df695ea-72f1-425b-9abf-859e26b4d489",
   "metadata": {},
   "outputs": [
    {
     "name": "stdout",
     "output_type": "stream",
     "text": [
      "+----+-----------+\n",
      "|Code|Description|\n",
      "+----+-----------+\n",
      "|   0|          0|\n",
      "+----+-----------+\n",
      "\n"
     ]
    }
   ],
   "source": [
    "df_carriers.select([count(when(isnan(c) | col(c).isNull(), c)).alias(c) for c in df_carriers.columns]).show()"
   ]
  },
  {
   "cell_type": "markdown",
   "id": "fcd98f1e-fd88-4525-98f0-5340f5006b40",
   "metadata": {},
   "source": [
    "Das Carriers Parquet File ist somit einwandfrei. Das heisst es hat in den zwei Spalten keine null-Werte."
   ]
  },
  {
   "cell_type": "markdown",
   "id": "53c33352-6acd-4883-96fa-758148fec350",
   "metadata": {},
   "source": [
    "## Airlinedata File"
   ]
  },
  {
   "cell_type": "code",
   "execution_count": 9,
   "id": "6338f50a-6bf2-40c6-9762-4e5521e06823",
   "metadata": {},
   "outputs": [],
   "source": [
    "df_airlines = spark.read.parquet('/airline-data/airline.parquet')"
   ]
  },
  {
   "cell_type": "markdown",
   "id": "867ed8ad-81ab-4dad-ad47-68dd61782028",
   "metadata": {},
   "source": [
    "Das Airlines File sollte gemäss Kaggle 29 Spalten haben und nach unserer Überprüfung 123'534'969 Zeilen."
   ]
  },
  {
   "cell_type": "code",
   "execution_count": 10,
   "id": "c15f9ee9-2886-438f-b8ad-45bb31477ddb",
   "metadata": {},
   "outputs": [
    {
     "name": "stdout",
     "output_type": "stream",
     "text": [
      "root\n",
      " |-- ActualElapsedTime: string (nullable = true)\n",
      " |-- AirTime: string (nullable = true)\n",
      " |-- ArrDelay: string (nullable = true)\n",
      " |-- ArrTime: string (nullable = true)\n",
      " |-- CRSArrTime: integer (nullable = true)\n",
      " |-- CRSDepTime: integer (nullable = true)\n",
      " |-- CRSElapsedTime: string (nullable = true)\n",
      " |-- CancellationCode: string (nullable = true)\n",
      " |-- Cancelled: integer (nullable = true)\n",
      " |-- CarrierDelay: string (nullable = true)\n",
      " |-- DayOfWeek: integer (nullable = true)\n",
      " |-- DayofMonth: integer (nullable = true)\n",
      " |-- DepDelay: string (nullable = true)\n",
      " |-- DepTime: string (nullable = true)\n",
      " |-- Dest: string (nullable = true)\n",
      " |-- Distance: string (nullable = true)\n",
      " |-- Diverted: integer (nullable = true)\n",
      " |-- FlightNum: integer (nullable = true)\n",
      " |-- LateAircraftDelay: string (nullable = true)\n",
      " |-- Month: integer (nullable = true)\n",
      " |-- NASDelay: string (nullable = true)\n",
      " |-- Origin: string (nullable = true)\n",
      " |-- SecurityDelay: string (nullable = true)\n",
      " |-- TailNum: string (nullable = true)\n",
      " |-- TaxiIn: string (nullable = true)\n",
      " |-- TaxiOut: string (nullable = true)\n",
      " |-- UniqueCarrier: string (nullable = true)\n",
      " |-- WeatherDelay: string (nullable = true)\n",
      " |-- Year: integer (nullable = true)\n",
      "\n"
     ]
    }
   ],
   "source": [
    "df_airlines.printSchema()"
   ]
  },
  {
   "cell_type": "markdown",
   "id": "9c3c40e9-bf10-427b-a468-2e389d29b3f2",
   "metadata": {},
   "source": [
    "Beim Erstellen des Parquet-Formats hatten wir das Problem, dass die Schema-Inferenz nicht auf Parquet übernommen wurde, sondern alle Spalten als \"String\" erstellt wurden."
   ]
  },
  {
   "cell_type": "code",
   "execution_count": 11,
   "id": "93f049f0-4473-41f2-8b56-777e2a76e6c1",
   "metadata": {},
   "outputs": [
    {
     "data": {
      "text/plain": [
       "29"
      ]
     },
     "execution_count": 11,
     "metadata": {},
     "output_type": "execute_result"
    }
   ],
   "source": [
    "len(df_airlines.columns)"
   ]
  },
  {
   "cell_type": "code",
   "execution_count": 12,
   "id": "53e08875-4027-46c9-b442-cab07b6aee87",
   "metadata": {},
   "outputs": [
    {
     "data": {
      "text/plain": [
       "123534969"
      ]
     },
     "execution_count": 12,
     "metadata": {},
     "output_type": "execute_result"
    }
   ],
   "source": [
    "df_airlines.count()"
   ]
  },
  {
   "cell_type": "markdown",
   "id": "33cdf351-5985-420c-abc1-d5097f8151d8",
   "metadata": {},
   "source": [
    "Die Anzahl Spalten und Zeilen stimmen: 29 und 123'534'969"
   ]
  },
  {
   "cell_type": "code",
   "execution_count": 13,
   "id": "01a5eca2-b828-4b45-a2fd-ae28182ba0ab",
   "metadata": {},
   "outputs": [
    {
     "name": "stderr",
     "output_type": "stream",
     "text": [
      "2022-05-29 13:44:30,454 WARN util.package: Truncated the string representation of a plan since it was too large. This behavior can be adjusted by setting 'spark.sql.debug.maxToStringFields'.\n",
      "[Stage 23:======================================================> (54 + 1) / 55]\r"
     ]
    },
    {
     "name": "stdout",
     "output_type": "stream",
     "text": [
      "+-----------------+-------+--------+-------+----------+----------+--------------+----------------+---------+------------+---------+----------+--------+-------+----+--------+--------+---------+-----------------+-----+--------+------+-------------+-------+------+-------+-------------+------------+----+\n",
      "|ActualElapsedTime|AirTime|ArrDelay|ArrTime|CRSArrTime|CRSDepTime|CRSElapsedTime|CancellationCode|Cancelled|CarrierDelay|DayOfWeek|DayofMonth|DepDelay|DepTime|Dest|Distance|Diverted|FlightNum|LateAircraftDelay|Month|NASDelay|Origin|SecurityDelay|TailNum|TaxiIn|TaxiOut|UniqueCarrier|WeatherDelay|Year|\n",
      "+-----------------+-------+--------+-------+----------+----------+--------------+----------------+---------+------------+---------+----------+--------+-------+----+--------+--------+---------+-----------------+-----+--------+------+-------------+-------+------+-------+-------------+------------+----+\n",
      "|0                |0      |0       |0      |0         |0         |0             |38955823        |0        |0           |0        |0         |0       |0      |0   |0       |0       |0        |0                |0    |0       |0     |0            |139774 |0     |0      |0            |0           |0   |\n",
      "+-----------------+-------+--------+-------+----------+----------+--------------+----------------+---------+------------+---------+----------+--------+-------+----+--------+--------+---------+-----------------+-----+--------+------+-------------+-------+------+-------+-------------+------------+----+\n",
      "\n"
     ]
    },
    {
     "name": "stderr",
     "output_type": "stream",
     "text": [
      "                                                                                \r"
     ]
    }
   ],
   "source": [
    "df_airlines.select([count(when(isnan(c) | col(c).isNull(), c)).alias(c) for c in df_airlines.columns]).show(truncate=False)"
   ]
  },
  {
   "cell_type": "markdown",
   "id": "71cbb988-4b85-452b-852d-2170a0be1df6",
   "metadata": {},
   "source": [
    "Es hat 139'774 Nullwerte in der Spalte TailNum d.H. es gibt keine Angabe zur Tail Number (das Nummernschild von Flugzeugen). In der Spalte CancelationCode hat es 38'955'823 Nullwerte. Entweder sind die Flüge nicht gecancelled worden, oder es gibt für diesen Fall keinen Code."
   ]
  },
  {
   "cell_type": "code",
   "execution_count": 14,
   "id": "10f2f6d1-a7a0-44a1-aa8f-5721390df409",
   "metadata": {},
   "outputs": [
    {
     "name": "stderr",
     "output_type": "stream",
     "text": [
      "[Stage 26:==============================================>         (46 + 9) / 55]\r"
     ]
    },
    {
     "name": "stdout",
     "output_type": "stream",
     "text": [
      "+---------+--------+\n",
      "|Cancelled|   count|\n",
      "+---------+--------+\n",
      "|        0|38955823|\n",
      "+---------+--------+\n",
      "\n"
     ]
    },
    {
     "name": "stderr",
     "output_type": "stream",
     "text": [
      "                                                                                \r"
     ]
    }
   ],
   "source": [
    "df_airlines.filter(col('CancellationCode').isNull()).groupBy('Cancelled').count().show()"
   ]
  },
  {
   "cell_type": "markdown",
   "id": "3927dab7-a5bc-45ff-8c2b-649f5eec17ef",
   "metadata": {},
   "source": [
    "Diese Abfrage bestätigt unsere Vermutung, dass bei allen \"Cancelled\"-Flüge (Cancelled = 1) beim CancellationCode ein null steht. Somit macht das Datenset Sinn, dass wenn ein Flug nicht gecancelled wurde, somit auch NULL beim CancellationCodes steht."
   ]
  },
  {
   "cell_type": "code",
   "execution_count": 15,
   "id": "fa5fc438-a575-4dc6-bb27-da4acaddb616",
   "metadata": {},
   "outputs": [],
   "source": [
    "spark.stop()"
   ]
  },
  {
   "cell_type": "markdown",
   "id": "bba45ada-da0c-4bd8-91b6-1cac34a94fe7",
   "metadata": {},
   "source": [
    "## Erläuterungen"
   ]
  },
  {
   "cell_type": "markdown",
   "id": "150de72f-3ffe-4b11-b9a1-5b7bd0720c81",
   "metadata": {},
   "source": [
    "### Hat es Überraschungen beim ersten Kontakt mit den Daten gegeben?"
   ]
  },
  {
   "cell_type": "markdown",
   "id": "e69ca478-5139-4c6f-86a7-67803f823872",
   "metadata": {},
   "source": [
    "In fast einem Drittel der Zeilen hat es Nullwerte. Bei genauerem Hinschauen sind die aber nicht schlimm, resp. zu erwarten. siehe z.Bsp. Ausführungen oben bezüglich Cancellation-Code."
   ]
  },
  {
   "cell_type": "markdown",
   "id": "d10199a9-7b36-4dce-8780-4cf22ba9c08e",
   "metadata": {},
   "source": [
    "### Was haben wir aus dem prototyping gelernt?"
   ]
  },
  {
   "cell_type": "markdown",
   "id": "0a9b2441-a54f-4c59-83ba-ed0b66364b34",
   "metadata": {},
   "source": [
    "Beim Einlesen der Daten aus .csv Files funktioniert die Schemainferenz nicht richtig. Alle Daten werden als Strings erkannt, obwohl das meiste eigentlich Integers sein müssten. Korrekterweise würden wir die Spalten zum richtigen Typ casten, damit die SQL Operationen effizienter ablaufen. Auf diesen Zusatzschritt haben wir verzeichtet.    \n",
    "Ansonsten sind die Daten in Ordnung und auch die Nullwerte ergeben Sinn."
   ]
  },
  {
   "cell_type": "code",
   "execution_count": null,
   "id": "adb5cda9-15b1-4e58-8167-fcf87f51a88b",
   "metadata": {},
   "outputs": [],
   "source": []
  }
 ],
 "metadata": {
  "kernelspec": {
   "display_name": "Python 3 (ipykernel)",
   "language": "python",
   "name": "python3"
  },
  "language_info": {
   "codemirror_mode": {
    "name": "ipython",
    "version": 3
   },
   "file_extension": ".py",
   "mimetype": "text/x-python",
   "name": "python",
   "nbconvert_exporter": "python",
   "pygments_lexer": "ipython3",
   "version": "3.8.10"
  }
 },
 "nbformat": 4,
 "nbformat_minor": 5
}
