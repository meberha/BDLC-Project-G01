{
 "cells": [
  {
   "cell_type": "code",
   "execution_count": null,
   "id": "d88e03f6-ad66-4575-9e7b-8f67772f0a1b",
   "metadata": {},
   "outputs": [],
   "source": [
    "!head -n10 Dataset/airline.csv"
   ]
  },
  {
   "cell_type": "code",
   "execution_count": null,
   "id": "ba230eff-a8ec-4e3b-9ed0-207b894bf6b1",
   "metadata": {
    "tags": []
   },
   "outputs": [],
   "source": [
    "!head -n5 Dataset/carriers.txt"
   ]
  },
  {
   "cell_type": "code",
   "execution_count": null,
   "id": "86890959-6914-4acd-821c-0948bbaef119",
   "metadata": {},
   "outputs": [],
   "source": [
    "import findspark\n",
    "import pyspark\n",
    "import random\n",
    "\n",
    "findspark.init()\n",
    "sc = pyspark.SparkContext(appName=\"Text Processing\")"
   ]
  },
  {
   "cell_type": "code",
   "execution_count": null,
   "id": "f5be944a-ddc7-41ac-b67c-be130a0627e8",
   "metadata": {},
   "outputs": [],
   "source": [
    "airline = sc.textFile(\"~/Dataset/airline.csv\")"
   ]
  },
  {
   "cell_type": "code",
   "execution_count": null,
   "id": "641ecab9-b1a8-4c53-a392-fbe923f10381",
   "metadata": {},
   "outputs": [],
   "source": [
    "carriers = sc.textFile(\"BDLC-Project-G01/Dataset/carriers.txt\")"
   ]
  },
  {
   "cell_type": "code",
   "execution_count": null,
   "id": "dfe12501-ea8a-449f-ae76-e7c81ac0f6b2",
   "metadata": {},
   "outputs": [],
   "source": [
    "carriers"
   ]
  },
  {
   "cell_type": "code",
   "execution_count": null,
   "id": "1f661b43-f7a8-42f4-8c6c-f564683d9957",
   "metadata": {},
   "outputs": [],
   "source": [
    "%time airline.cache()"
   ]
  },
  {
   "cell_type": "code",
   "execution_count": null,
   "id": "3aff6f03-be4b-4479-9652-5ac82b993917",
   "metadata": {},
   "outputs": [],
   "source": [
    "%time carriers.cache()"
   ]
  },
  {
   "cell_type": "code",
   "execution_count": null,
   "id": "4fe81fb6-59fd-4cc7-9ed1-d740ef9f8601",
   "metadata": {},
   "outputs": [],
   "source": [
    "carriers.count()"
   ]
  },
  {
   "cell_type": "code",
   "execution_count": null,
   "id": "e1f43d86-6959-48e6-aedb-094fa4c043d9",
   "metadata": {},
   "outputs": [],
   "source": [
    "sc.stop()"
   ]
  }
 ],
 "metadata": {
  "kernelspec": {
   "display_name": "Python 3 (ipykernel)",
   "language": "python",
   "name": "python3"
  },
  "language_info": {
   "codemirror_mode": {
    "name": "ipython",
    "version": 3
   },
   "file_extension": ".py",
   "mimetype": "text/x-python",
   "name": "python",
   "nbconvert_exporter": "python",
   "pygments_lexer": "ipython3",
   "version": "3.8.10"
  }
 },
 "nbformat": 4,
 "nbformat_minor": 5
}
