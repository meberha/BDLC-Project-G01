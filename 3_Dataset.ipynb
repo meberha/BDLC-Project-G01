{
 "cells": [
  {
   "cell_type": "markdown",
   "id": "3a9abfcf-1c9d-4cbd-ba19-b5fcdc52f7e3",
   "metadata": {},
   "source": [
    "# Dataset"
   ]
  },
  {
   "cell_type": "markdown",
   "id": "d49138e8-dc17-48e2-8e6a-830e0185dfc0",
   "metadata": {},
   "source": [
    "### Wieso haben Sie sich für diesen Datensatz entschieden?\n",
    "\n",
    "Wir haben im Internet (kaggle.com) nach Datensätzen recherchiert welche einem «Big-Data» Ansatz entsprechen, wir mussten aber feststellen das reine Text Datensätze welche für unseren Cluster passen schwer zu finden sind. Zusätzlich wollten wir ein Datensatz, der ein Thema beinhaltet welches uns allen gängig ist, so können wir sicherstellen das der Lerneffekt der eigentlichen Aufgabe am grössten ist. \n",
    "\n",
    "Daher haben wir uns für das «Airline on-time Performance Data» Dataset entschieden, da dieses mit einer Grösse von ca. 12 gB perfekt zu unser Cluster Grösse passt, wie auch kennen wir alle die Begriffe und was diese bedeuten. "
   ]
  },
  {
   "cell_type": "markdown",
   "id": "6bb6e2fc-b721-4f0d-b7df-63d8dddcfe25",
   "metadata": {},
   "source": [
    "### Wie haben Sie den Datensatz heruntergeladen? (api, save as, csv, xml, json, ...)\n",
    "\n",
    "Wir haben die Daten von kaggle.com mitels eines API Heruntergeladen."
   ]
  },
  {
   "cell_type": "code",
   "execution_count": null,
   "id": "5c25cba7-5bd6-4c16-b940-b7a89c145d0a",
   "metadata": {},
   "outputs": [],
   "source": [
    "from kaggle.api.kaggle_api_extended import KaggleApi"
   ]
  },
  {
   "cell_type": "code",
   "execution_count": null,
   "id": "1a996fc8-5374-4ef5-bd9a-573e6bed943e",
   "metadata": {},
   "outputs": [],
   "source": [
    "api = KaggleApi()\n",
    "api.authenticate()"
   ]
  },
  {
   "cell_type": "code",
   "execution_count": null,
   "id": "ee1f61fa-6de6-474c-8019-d8c7f98ba32c",
   "metadata": {},
   "outputs": [],
   "source": [
    "api.dataset_download_file('bulter22/airline-data', 'carriers.csv')"
   ]
  },
  {
   "cell_type": "code",
   "execution_count": null,
   "id": "c3f026b6-7ab1-429a-9da4-afc6e7b8b5c2",
   "metadata": {},
   "outputs": [],
   "source": [
    "# !hdfs dfs -mkdir /airline-data"
   ]
  },
  {
   "cell_type": "code",
   "execution_count": 2,
   "id": "5a46ea54-7f78-464a-91d1-d49ea91ebbce",
   "metadata": {},
   "outputs": [
    {
     "name": "stdout",
     "output_type": "stream",
     "text": [
      "Found 2 items\n",
      "drwxr-xr-x   - cluster supergroup          0 2022-05-12 12:35 /airline-data\n",
      "drwxr-xr-x   - cluster supergroup          0 2022-05-05 12:04 /user\n"
     ]
    }
   ],
   "source": [
    "!hdfs dfs -ls /"
   ]
  },
  {
   "cell_type": "markdown",
   "id": "4c66bb10-e168-4a1b-bb36-2dcac5502aba",
   "metadata": {},
   "source": [
    "### Wie haben Sie die Daten ins HDFS geladen? Musste die Blocksize von HDF angepasst werden?\n"
   ]
  },
  {
   "cell_type": "code",
   "execution_count": null,
   "id": "3d289bf1-9686-4285-b495-b4f6f77c69e5",
   "metadata": {},
   "outputs": [],
   "source": [
    "# !hdfs dfs -put ~/BDLC-Project-G01/Dataset/airline.csv /airline-data\n",
    "# !hdfs dfs -put ~/BDLC-Project-G01/Dataset/carriers.txt /airline-data"
   ]
  },
  {
   "cell_type": "code",
   "execution_count": 1,
   "id": "3149125f-afbe-490f-a3c2-0742173cacfe",
   "metadata": {},
   "outputs": [
    {
     "name": "stdout",
     "output_type": "stream",
     "text": [
      "Found 2 items\n",
      "drwxr-xr-x   - cluster supergroup          0 2022-05-12 12:35 /airline-data/airline.parquet\n",
      "drwxr-xr-x   - cluster supergroup          0 2022-05-22 14:41 /airline-data/carriers.parquet\n"
     ]
    }
   ],
   "source": [
    "!hdfs dfs -ls /airline-data"
   ]
  },
  {
   "cell_type": "markdown",
   "id": "a19f1e2d-c6fc-4eb1-a84c-4fe49c397195",
   "metadata": {},
   "source": [
    "### Ist Ihr Projekt ein Big-Data-Problem?\n",
    "\n",
    "Da erst ab einer Grösse im Terabyte Bereich von Big-Data gesprochen wird und die Daten mit wenigen Ausnahmen einheitlich sind, kann man hier nicht von einem Big-Data-Problem sprechen. Um ein Big-Data-Problem auszuwerten ist unser Cluster im EnterpriseLab leider zu klein, es ist aber trotzdem eine spannende Übung das das File doch rund 123 Millionen Datensätze hat. Mit dieser Anzahl Datensätzen kann doch eine aussagekräftige Analyse gemacht werden."
   ]
  },
  {
   "cell_type": "markdown",
   "id": "4e320035-e39f-4a13-8bd6-9e980bab0913",
   "metadata": {},
   "source": [
    "### Erklären Sie Ihre Daten. Was bedeuten die Felder, welches Schema sollten die Daten haben, gibt es primary keys und foreign keys?\n",
    "\n",
    "Die Daten des «Airline on-time Performance Data» Dataset beinhalten die Aufzeichnungen der Inlandflüge in den USA von 1987 - 2008. Untenstehende Tabellen erklärt die Felder und das Schema. Die Tabellen Airline und Carrier werden mit dem Primarschlüssel \"UniqueCarrier\" in der Airline Tabelle und dem Fremdschlüssel \"Code\" in der Tabelle Carrier verbunden."
   ]
  },
  {
   "cell_type": "markdown",
   "id": "42bd250f-c010-4ce7-af6f-4e1a013674d8",
   "metadata": {},
   "source": [
    "#### Airline\n",
    "| Name | Beschreibung| Datentyp |\n",
    "| ------- | -------- | -------- |\n",
    "| Year | Jahr | int |\n",
    "| Month | Monat | int |\n",
    "| Day of Month | Tag des Monat (1-31) | int |\n",
    "| DayOfWeek | Wochentag (1 = Monday - 7 = Sunday) | int |\n",
    "| DepTime | Reale Abflugszeit (lokal, hhmm) | int |\n",
    "| CRSDepTime | Geplante Abflugszeit (lokal, hhmm) | int |\n",
    "| ArrTime | Reale Ankunftszeit (lokal, hhmm) | int |\n",
    "| CRSArrTime | Geplante Ankunftszeit (lokal, hhmm) | int |\n",
    "| UniqueCarrier | Fluggesellschafts Code | string |\n",
    "| FlightNum | Flugnummer | string |\n",
    "| TailNum | Flugzeugnummer | string |\n",
    "| ActualElapsedTime | Tatsächliche Zeitdauer (in Minuten) |  int |\n",
    "| CRSElapsedTime | Geplante Zeitdauer (in Minuten) | int |\n",
    "| AirTime | Flugdauer (in Minuten) | int |\n",
    "| ArrDelay | Ankunft Verspätung (in Minuten) | int |\n",
    "| DepDelay | Abflug Verspätung (in Minuten) | int |\n",
    "| Origin | Startort IATA Flughafen Code | string |\n",
    "| Dest | Zielort IATA Flughafen Code | string |\n",
    "| Distance | Distanz (in Meilen) |  int |\n",
    "| TaxiIn | Zeit in Bewegung am Boden bei Abflug (in Minuten) | int |\n",
    "| TaxiOut | Zeit in Bewegung am Boden bei Ankunft (in Minuten) | int |\n",
    "| Cancelled | Wurde der Flug gestrichen? | string |\n",
    "| CancellationCode | Ursache der streichnung des Flugs (A = carrier, B = weather, C = NAS, D = security) | string |\n",
    "| Diverted | Flug wurde Umgeleitet (1 = ja, 0 = nein) | int |\n",
    "| CarrierDelay | Verspätung wegen des Gepäcks (in Minuten) | int | \n",
    "| WeatherDelay | Verspätung wegen des Wetters (in Minuten) | int |\n",
    "| NASDelay | \"National Aviation System\" Verspätung (in Minuten) | int |\n",
    "| SecurityDelay | Verspätung wegen der Sicherheit (in Minuten) | int |\n",
    "| LateAircraftDelay | Verspätung wegen dem Flugzeug (in Minuten) | int |"
   ]
  },
  {
   "cell_type": "markdown",
   "id": "d531e390-9ae7-4398-b596-7962c7056ce9",
   "metadata": {},
   "source": [
    "#### Carrier\n",
    "| Name | Beschreibung| Datentyp |\n",
    "| ------- | -------- | -------- |\n",
    "| Code | Fluggesellschafts Code | string |\n",
    "| Description | Name der Airline | string |"
   ]
  }
 ],
 "metadata": {
  "kernelspec": {
   "display_name": "Python 3 (ipykernel)",
   "language": "python",
   "name": "python3"
  },
  "language_info": {
   "codemirror_mode": {
    "name": "ipython",
    "version": 3
   },
   "file_extension": ".py",
   "mimetype": "text/x-python",
   "name": "python",
   "nbconvert_exporter": "python",
   "pygments_lexer": "ipython3",
   "version": "3.8.10"
  }
 },
 "nbformat": 4,
 "nbformat_minor": 5
}
