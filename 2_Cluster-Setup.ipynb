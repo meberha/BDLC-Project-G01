{
 "cells": [
  {
   "cell_type": "markdown",
   "id": "20f7c324-bbc6-4085-b058-84eac85494e6",
   "metadata": {
    "tags": []
   },
   "source": [
    "# Virtuelle Maschinen\n",
    "### Gruppe 1\n",
    "Unsere Gruppe umfasst folgende VMs:\n",
    "\n",
    "    bdlc-05 = Matthias Eberhard\n",
    "    bdlc-11 = Philippe Michel\n",
    "    bdlc-15 = Corinne Schwarzentruber\n",
    "    \n",
    "Wir haben uns beim Aufsetzen des Clusters an das Beispiel gemäss dem Unterricht orientiert. Wir umfassen somit 3 virtuelle Maschinen, womit unser Datensatz von ca. 12 GB gut bearbeitet werden kann.\n",
    "### HDFS und Hadoop\n",
    "http://bdlc-05.el.eee.intern:9870/\n",
    "Um den Datensatz über den Cluster verteilt zu speichern und dadurch auch Redundanzen zu schaffen (für Ausfallsicherung, sollte eine VM aussteigen) installieren wir HADOOP HDFS. Dies ermöglicht auch, dass nur die Berechnungen auf dem Datensatz über das Netz laufen.\n",
    "\n",
    "HDFS hat eine Master/Slave Architektur, wobei unsere VM-05 der Master ist (NameNode) und die weiteren 2 VMs sind die Slaves (DataNodes). Um die Ausfallsicherheit zu gewährleisten, muss auch der NameNode duppliziert werden. Denn nur dieser weiss, welche Datenpackete auf welcher VM gespeichert ist (Metadaten). Somit initialisieren wir einen SecondNameNode auf der VM-11.\n",
    "\n",
    "Wir definieren, dass wir uns auf einen Replikationsfaktor von 2 beschränken (per Devault wäre dies 3)."
   ]
  },
  {
   "cell_type": "code",
   "execution_count": null,
   "id": "4b6924da-c37a-4d44-8b76-1ca838a1e2f3",
   "metadata": {},
   "outputs": [],
   "source": []
  }
 ],
 "metadata": {
  "kernelspec": {
   "display_name": "Python 3 (ipykernel)",
   "language": "python",
   "name": "python3"
  },
  "language_info": {
   "codemirror_mode": {
    "name": "ipython",
    "version": 3
   },
   "file_extension": ".py",
   "mimetype": "text/x-python",
   "name": "python",
   "nbconvert_exporter": "python",
   "pygments_lexer": "ipython3",
   "version": "3.8.10"
  }
 },
 "nbformat": 4,
 "nbformat_minor": 5
}
