{
 "cells": [
  {
   "cell_type": "markdown",
   "id": "db5cb808-4edd-4ef2-b6eb-b3422db13a2d",
   "metadata": {},
   "source": [
    "# Learnings"
   ]
  },
  {
   "cell_type": "markdown",
   "id": "a14fbc9f-5b9b-4d64-90e6-329ed13b87c5",
   "metadata": {},
   "source": [
    "## Was waren die grössten Challenges im Projekt?"
   ]
  },
  {
   "cell_type": "markdown",
   "id": "6b8c07dd-22d2-4bf2-923d-b85a065cd250",
   "metadata": {},
   "source": [
    "Corinne: \n",
    "Ich habe aus versehen beim pushen ins GIT den Dataset ebenfalls geadded... was definitv unklug war. Der Push konnte wegen fehlendem Datenspeicher nicht abgeschlossen werden, worauf mir zum Glück mein Teamgspändli helfen konnte und den Push stoppen. :/   War mir mal wieder eine Lehre.\n",
    "Ich brauchte eine Zeit bis ich verstanden habe, wie SPARK und SPARK-SQL und deren DataFrames und Pandas und alles mit Python zusammen gehören und entsprechend abgefragt werden können. Ob ich in der Analyse nun wirklich den sinnvollsten und performantesten Weg gewählt habe, würde mich noch interessieren als Rückmeldung von Ihnen."
   ]
  },
  {
   "cell_type": "markdown",
   "id": "deb3a288-4cab-4dc9-8fc7-87b785bd9afb",
   "metadata": {},
   "source": [
    "Matthias: Für mich waren die grössten Probleme bei Linux zu finden. Ich habe im Studium genügend oft mit der Konsole gearbeitet, dass das kein Problem mehr ist. Trotzdem bin ich mir von Windows her halt die graphische Benutzeroberfläche gewöhnt und Sachen wie Laufwerk- und Speicherverwaltung werden auf der Konsole plötzlich zur Challenge. Zusätzlich hatten wir zum Teil Zusammenstösse auf Jupyterlab weil wir gleichzeitig am Projekt arbeiten wollten."
   ]
  },
  {
   "cell_type": "markdown",
   "id": "8ffadf3c-6f3e-4fbf-b01f-abd0b103e845",
   "metadata": {},
   "source": [
    "## Was würden Sie beim nächsten Mal anders oder gleich machen?"
   ]
  },
  {
   "cell_type": "markdown",
   "id": "51d36bf5-95ed-4345-b027-5f5b59e68dde",
   "metadata": {},
   "source": [
    "Corinne: Ich würde auf jeden Fall gerne wieder mit diesem Team zusammen arbeiten. Es hat sehr gut geklappt und wir konnten uns gut austauschen untereinander. Ich würde beim nächsten Mal wohl HIVE zusätzlich nutzen, um mittels %%sparksql die Selects weniger verschachtelt erstellten zu müssen. "
   ]
  },
  {
   "cell_type": "markdown",
   "id": "2d24432c-cd60-43a8-8ccd-01555bce51a2",
   "metadata": {},
   "source": [
    "Philippe: Die Gruppenkonstellation hat von Anfang an sehr gut gepasst, so dass wir schnell und effektiv Fortschreiten konnten. Ich würde im vorherein mehr Zeit für das Lernen investieren und wenn man Python beherrscht würde, wäre dies sicherlich kein Nachteil :)"
   ]
  },
  {
   "cell_type": "markdown",
   "id": "7592ec87-3628-40fa-8b7c-e1ea06702718",
   "metadata": {},
   "source": [
    "Matthias: Wir haben uns bei dieser Arbeit eigentlich komplett an die Beispiele gehalten und uns nicht selbst daran gewagt, noch andere Dinge zu probieren (HIVE installieren zum Beispiel). Auch mit den Anleitungen lernt man etwas und kann sich da auch etwas auf die Datenanalyse konzentrieren und muss sich nicht von Problem zu Problem durcharbeiten. Persönlich hatte ich dieses Semester mit einigen Projekten etwas viel zu tun. Ich hätte etwas öfters kleinere Arbeiten am Projekt erledigen sollen, statt gegen Ende alles auf einmal zu machen."
   ]
  },
  {
   "cell_type": "markdown",
   "id": "8813dfcd-2e8f-45b0-b18b-7b717b60eac2",
   "metadata": {},
   "source": [
    "## Was sind Ihre grössten Learnings?"
   ]
  },
  {
   "cell_type": "markdown",
   "id": "abdc448c-4f91-4f67-ab3f-43f0acf32eb7",
   "metadata": {},
   "source": [
    "Corinne: Genügend lange Googeln!!! Wenn mich etwas stört (z.Bsp. dass der SPARK-SQL-Code rechts am Fensterrand verschwindet) muss ich einfach genügend lange googeln, ob es eine Lösung gibt. Denn was mich als Laye schon nervt, haben die Profis sicher bereits gelöst... Es brauchte aber einiges an Nerven, bis ich endlich den \"\"\"-Trick fand. Und ich weiss nun, dass die BigData-Welt einfach unersättlich gross ist... Die Tage wurden länger und die Nächste kürzer! So wichtig auf Work-Life-Balance zu achten, denn die Möglichkeiten, zum Etwas mehr und mehr zu optimieren ist wohl unendlich. Und abschliessend noch.. ich habe dank der Gruppenarbeit wirklich das Gefühl, dass ich das im Modul gelernte auch wirklich anwenden kann. Vielen Dank auch für die Zeit während dem Unterricht, dies ermöglichte es, sich als Gruppe zu organisieren und fix daran zu arbeiten."
   ]
  },
  {
   "cell_type": "markdown",
   "id": "d2c0a061-6470-475b-93ab-fc9221bd4583",
   "metadata": {},
   "source": [
    "Philippe: Für mich (als Wirtschaftsinformatik Student) war der Lernstoff von BDLC Neuland und sehr anspruchsvoll. Von Woche zu Woche kamen neue Inputs, obwohl der Input der letzten Woche noch nicht komplett verarbeitet war. Mir hat die Projektarbeit daher sehr geholfen, dass in den ersten Semesterwochen gelernte nochmals von Anfang bis zur fertigen Auswertung durchzuspielen. So bekam ich ein besseres Verständnis für die ganze Thematik. "
   ]
  },
  {
   "cell_type": "markdown",
   "id": "7a7ac5bd-0363-4290-b446-cb93bfe2f958",
   "metadata": {},
   "source": [
    "Matthias: Ich habe sicher wieder einiges über das Linux OS gelernt. Viel spannender allerdings fand ich das SQL Operation Chaining von PySpark. Ich habe bis jetzt eher wenig mit SQL gearbeitet und lerne die Sprache in jedem Modul / jeder Arbeit von neuem. Mit dem Operation Chaining konnte ich allerdings sehr schnell kleinere Abfragen machen, ohne lang an SQL Syntax zu studieren."
   ]
  }
 ],
 "metadata": {
  "kernelspec": {
   "display_name": "Python 3 (ipykernel)",
   "language": "python",
   "name": "python3"
  },
  "language_info": {
   "codemirror_mode": {
    "name": "ipython",
    "version": 3
   },
   "file_extension": ".py",
   "mimetype": "text/x-python",
   "name": "python",
   "nbconvert_exporter": "python",
   "pygments_lexer": "ipython3",
   "version": "3.8.10"
  }
 },
 "nbformat": 4,
 "nbformat_minor": 5
}
