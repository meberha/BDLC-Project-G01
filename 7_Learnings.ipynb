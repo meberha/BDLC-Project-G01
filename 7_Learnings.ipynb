{
 "cells": [
  {
   "cell_type": "markdown",
   "id": "db5cb808-4edd-4ef2-b6eb-b3422db13a2d",
   "metadata": {},
   "source": [
    "# Learnings"
   ]
  },
  {
   "cell_type": "markdown",
   "id": "6ac12499-49d4-4a1d-8056-63aa9767ad38",
   "metadata": {},
   "source": [
    "Was waren die grössten Challenges im Projekt?\n",
    "\n",
    "\n",
    "Was würden Sie beim nächsten Mal anders machen?\n",
    "\n",
    "\n",
    "Was sind Ihre grössten Learnings?"
   ]
  },
  {
   "cell_type": "code",
   "execution_count": null,
   "id": "d7973652-2708-4766-80ea-0c3d6f1cb0b8",
   "metadata": {},
   "outputs": [],
   "source": []
  }
 ],
 "metadata": {
  "kernelspec": {
   "display_name": "Python 3 (ipykernel)",
   "language": "python",
   "name": "python3"
  },
  "language_info": {
   "codemirror_mode": {
    "name": "ipython",
    "version": 3
   },
   "file_extension": ".py",
   "mimetype": "text/x-python",
   "name": "python",
   "nbconvert_exporter": "python",
   "pygments_lexer": "ipython3",
   "version": "3.8.10"
  }
 },
 "nbformat": 4,
 "nbformat_minor": 5
}
