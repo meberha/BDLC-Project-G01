{
 "cells": [
  {
   "cell_type": "markdown",
   "id": "2e6e361d-7e58-4035-a462-a959604536e9",
   "metadata": {},
   "source": [
    "# Fragestellungen"
   ]
  },
  {
   "cell_type": "markdown",
   "id": "5280ef6f-7069-4970-92fd-f310762ff890",
   "metadata": {},
   "source": [
    "### Fluggesellschaften"
   ]
  },
  {
   "cell_type": "markdown",
   "id": "9deca3cb-2935-49e1-b704-fe912f652691",
   "metadata": {
    "tags": []
   },
   "source": [
    "#### Welche Fluggesellschaften haben prozentual (+/-) die grössten Abweichungen der geplanten Flugzeit zur effektiven Flugzeit (geplante Abflugzeit bis effektive Ankunftszeit)?"
   ]
  },
  {
   "cell_type": "code",
   "execution_count": null,
   "id": "08512935-53cd-4277-b711-636e792ad672",
   "metadata": {},
   "outputs": [],
   "source": []
  },
  {
   "cell_type": "markdown",
   "id": "33353882-4ca6-4f8d-b067-ef80eadf0cd9",
   "metadata": {},
   "source": [
    "#### Bei welchen Fluggesellschaften werden die meisten Flüge gestrichen?"
   ]
  },
  {
   "cell_type": "code",
   "execution_count": null,
   "id": "cd8d41fc-6daf-4f35-9ca8-5ebeefd891eb",
   "metadata": {},
   "outputs": [],
   "source": []
  },
  {
   "cell_type": "markdown",
   "id": "24e96495-eb83-438d-88c3-5a2a2d0fec0f",
   "metadata": {},
   "source": [
    "#"
   ]
  },
  {
   "cell_type": "markdown",
   "id": "332878a0-3880-4936-bb30-213c41a6df7a",
   "metadata": {},
   "source": [
    "### Flughäfen"
   ]
  },
  {
   "cell_type": "markdown",
   "id": "8ed45ef3-baf2-4985-9337-5d3114827bc6",
   "metadata": {},
   "source": [
    "#### Welche 10 Flughäfen haben die kleinste und grösste Abflugverspätung (ohne cancellation)?"
   ]
  },
  {
   "cell_type": "code",
   "execution_count": null,
   "id": "e9e29829-31bc-4e5c-bd56-79aadf5be6fa",
   "metadata": {},
   "outputs": [],
   "source": []
  },
  {
   "cell_type": "markdown",
   "id": "6db14632-de74-4a29-abe6-126e172882c7",
   "metadata": {},
   "source": [
    "#### Bei welchen Flughäfen werden die meisten Flüge gestrichen?"
   ]
  },
  {
   "cell_type": "code",
   "execution_count": null,
   "id": "68027a66-ba6b-44e0-996c-6fa10ece80b7",
   "metadata": {
    "tags": []
   },
   "outputs": [],
   "source": []
  },
  {
   "cell_type": "markdown",
   "id": "6aab6eaa-92c9-464c-8998-2be18bddc897",
   "metadata": {},
   "source": [
    "#"
   ]
  },
  {
   "cell_type": "markdown",
   "id": "25ddfb23-1600-4983-987a-509ef65bb17f",
   "metadata": {
    "tags": []
   },
   "source": [
    "### Weitere Fragestellungen"
   ]
  },
  {
   "cell_type": "markdown",
   "id": "96bead9e-3581-4585-80d8-a15d240cce81",
   "metadata": {},
   "source": [
    "#### An welchen Tagen gibt es am meisten Flugbewegungen?"
   ]
  },
  {
   "cell_type": "code",
   "execution_count": null,
   "id": "de9b2960-1c83-4658-bf3d-88d22a3bbe99",
   "metadata": {
    "tags": []
   },
   "outputs": [],
   "source": []
  },
  {
   "cell_type": "markdown",
   "id": "c0532335-7e76-4a0c-adb6-512b42548c45",
   "metadata": {},
   "source": [
    "#### Können Unregelmässigkeiten wie Naturkatastrophen oder Terroranschläge festgestellt werden? "
   ]
  },
  {
   "cell_type": "code",
   "execution_count": null,
   "id": "f29efd35-9325-4c2d-9f2d-3b1f2d675902",
   "metadata": {},
   "outputs": [],
   "source": []
  }
 ],
 "metadata": {
  "kernelspec": {
   "display_name": "Python 3 (ipykernel)",
   "language": "python",
   "name": "python3"
  },
  "language_info": {
   "codemirror_mode": {
    "name": "ipython",
    "version": 3
   },
   "file_extension": ".py",
   "mimetype": "text/x-python",
   "name": "python",
   "nbconvert_exporter": "python",
   "pygments_lexer": "ipython3",
   "version": "3.8.10"
  }
 },
 "nbformat": 4,
 "nbformat_minor": 5
}
