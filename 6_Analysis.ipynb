{
 "cells": [
  {
   "cell_type": "markdown",
   "id": "ad64a24f-b1f1-4821-b4d2-281c4b95669f",
   "metadata": {},
   "source": [
    "# Analysis"
   ]
  },
  {
   "cell_type": "markdown",
   "id": "057045db-d012-42ff-9449-fb43713fdc1e",
   "metadata": {},
   "source": [
    "In der Phase des Prototyping haben wir vom Datenset erst die ersten 1'000 Zeilen verwendet. Nach den Erkenntnissen aus dem Prototyping laden wir nun die vollständigen Daten auf unseren Cluster.\n",
    "\n",
    "Der verwendete Datensatz verfügt über zwei Files. Das grosse File steht als CSV-File zur Verfügung, das zweite (Carriers) wird als TXT-File hochgeladen.\n",
    "Beim Prototyping hat sich gezeigt, dass die Datenmenge beim Speichern als Parquet signifikant reduziert hat. Somit können wir die Performance der Berechnungen verbessern, wenn wir unseren vollständigen Datensatz ebenfalls als Parquet speichern."
   ]
  },
  {
   "cell_type": "markdown",
   "id": "8037be56-b57b-4d74-bb5e-2e90e01c14c9",
   "metadata": {},
   "source": [
    "### Weshalb Parquet?"
   ]
  },
  {
   "cell_type": "markdown",
   "id": "864d203d-c25e-4c70-8173-be7991ec53db",
   "metadata": {},
   "source": [
    "Unser Datensatz verfügt über ca. 12GB Daten. Da Parquet auf Geschwindigkeit und Komprimierung optimiert ist, eigent sich dieses Format für solch grosse Datenmengen. Auch verfügt unser Datensatz über 29 Spalten. Bei all unseren Fragestellungen benötigen wir jedoch nur immer einen Bruchteil der Spalten, weshalb das Auslesen der Daten (was immer Zeilenweise geschieht) schneller ist mit Parquet.\n",
    "Auch haben wir viele identische \"NA\" Einträge, welche durch die Kompirimierung die Datenmenge signifikant reduziert."
   ]
  },
  {
   "cell_type": "markdown",
   "id": "78798195-d1c3-4ec1-982e-571c401629e0",
   "metadata": {},
   "source": [
    "## Bereitstellen der vollständigen Daten"
   ]
  },
  {
   "cell_type": "markdown",
   "id": "66923cd2-55e7-46c0-92d4-a2decdcfba83",
   "metadata": {},
   "source": [
    "Das Verzeichnis ist bereits aus dem Prototypin vorhanden. Wir werwenden  /airline-data."
   ]
  },
  {
   "cell_type": "code",
   "execution_count": 10,
   "id": "b3750195-59f5-4aaa-8587-b7ff9e9f164d",
   "metadata": {},
   "outputs": [
    {
     "name": "stdout",
     "output_type": "stream",
     "text": [
      "Found 2 items\n",
      "drwxr-xr-x   - cluster supergroup          0 2022-05-12 12:35 /airline-data/airline.parquet\n",
      "-rw-r--r--   2 cluster supergroup      43758 2022-05-12 12:29 /airline-data/carriers.txt\n"
     ]
    }
   ],
   "source": [
    "!hdfs dfs -ls /airline-data"
   ]
  },
  {
   "cell_type": "code",
   "execution_count": null,
   "id": "bea8ca6e-b2e8-4d58-8ce2-650a77076913",
   "metadata": {},
   "outputs": [],
   "source": [
    "# !hdfs dfs -put ~/BDLC-Project-G01/Dataset/airline.csv /airline-data\n",
    "# !hdfs dfs -put ~/BDLC-Project-G01/Dataset/carriers.txt /airline-data"
   ]
  },
  {
   "cell_type": "code",
   "execution_count": null,
   "id": "8bb7d2ed-60e7-428b-96c4-60aeb95f2aeb",
   "metadata": {},
   "outputs": [],
   "source": [
    "!hdfs dfs -ls /airline-data"
   ]
  },
  {
   "cell_type": "markdown",
   "id": "b1852555-2f86-4f21-9745-2f325965317c",
   "metadata": {},
   "source": [
    "### 1. Daten als Parquet speichern"
   ]
  },
  {
   "cell_type": "code",
   "execution_count": null,
   "id": "811af3bf-b43e-497d-8e2c-aa4d531ff405",
   "metadata": {},
   "outputs": [],
   "source": [
    "from pyspark.sql import SparkSession"
   ]
  },
  {
   "cell_type": "code",
   "execution_count": null,
   "id": "9922920e-126d-4554-a10b-0707cc5aee01",
   "metadata": {},
   "outputs": [],
   "source": [
    "spark = SparkSession.builder.appName('ConvertToParquet').getOrCreate()"
   ]
  },
  {
   "cell_type": "code",
   "execution_count": null,
   "id": "6ac456cb-5d00-4e1a-b9e5-55ff8ba17714",
   "metadata": {},
   "outputs": [],
   "source": [
    "!hdfs dfs -ls /airline-data/"
   ]
  },
  {
   "cell_type": "markdown",
   "id": "29bac386-7e14-45ac-954e-0263e831cb0d",
   "metadata": {},
   "source": [
    "### a) Parquet File schreiben"
   ]
  },
  {
   "cell_type": "code",
   "execution_count": null,
   "id": "9c18fd53-fcee-4dfd-bab3-183a773700d7",
   "metadata": {},
   "outputs": [],
   "source": [
    "spark.read.csv('/airline-data/airline.csv', header=True).repartition(55).write.parquet('/airline-data/airline.parquet')"
   ]
  },
  {
   "cell_type": "code",
   "execution_count": 1,
   "id": "16095dbd-a446-4b6e-8e56-3879d1e36f5d",
   "metadata": {},
   "outputs": [
    {
     "name": "stdout",
     "output_type": "stream",
     "text": [
      "Found 2 items\n",
      "drwxr-xr-x   - cluster supergroup          0 2022-05-12 12:35 /airline-data/airline.parquet\n",
      "-rw-r--r--   2 cluster supergroup      43758 2022-05-12 12:29 /airline-data/carriers.txt\n"
     ]
    }
   ],
   "source": [
    "!hdfs dfs -ls /airline-data/"
   ]
  },
  {
   "cell_type": "markdown",
   "id": "8c96762e-84e1-4ced-a70e-f36a2e120cf7",
   "metadata": {},
   "source": [
    "### b) Raw File löschen"
   ]
  },
  {
   "cell_type": "code",
   "execution_count": null,
   "id": "97026cfc-0f92-4409-995a-5f67ef2d5093",
   "metadata": {},
   "outputs": [],
   "source": [
    "!hdfs dfs -rm /airline-data/airline.csv"
   ]
  },
  {
   "cell_type": "code",
   "execution_count": null,
   "id": "d1c4d38b-654e-4265-a5fb-ca0f07014afe",
   "metadata": {},
   "outputs": [],
   "source": [
    "!hdfs dfs -ls /airline-data/"
   ]
  },
  {
   "cell_type": "markdown",
   "id": "dd7c9bf2-8780-42b1-8a35-42e308716ee9",
   "metadata": {},
   "source": [
    "### c) Spark-Session stoppen"
   ]
  },
  {
   "cell_type": "code",
   "execution_count": null,
   "id": "a4facc1d-79cb-4edf-9227-b058eafdf533",
   "metadata": {},
   "outputs": [],
   "source": [
    "spark.stop()"
   ]
  },
  {
   "cell_type": "markdown",
   "id": "6ec18ea4-5fe1-4549-9021-fdda821fb3bd",
   "metadata": {
    "tags": []
   },
   "source": [
    "## Datensatz in Tabelle schreiben"
   ]
  },
  {
   "cell_type": "code",
   "execution_count": null,
   "id": "595ab904-6f8f-4ca1-a5d4-eacc5ea9877f",
   "metadata": {},
   "outputs": [],
   "source": [
    "#!hdfs dfs -mkdir /user/spark/warehouse"
   ]
  },
  {
   "cell_type": "code",
   "execution_count": 1,
   "id": "927446f2-b7da-47fd-9d54-09fd67ab9114",
   "metadata": {},
   "outputs": [],
   "source": [
    "import findspark\n",
    "findspark.init()"
   ]
  },
  {
   "cell_type": "code",
   "execution_count": 2,
   "id": "83b93059-6fa5-4714-b6ad-55b380a88a78",
   "metadata": {},
   "outputs": [],
   "source": [
    "from pyspark.sql import SparkSession"
   ]
  },
  {
   "cell_type": "code",
   "execution_count": 3,
   "id": "945cc4f2-d661-4847-a916-73c9f8b99058",
   "metadata": {},
   "outputs": [
    {
     "name": "stderr",
     "output_type": "stream",
     "text": [
      "Setting default log level to \"WARN\".\n",
      "To adjust logging level use sc.setLogLevel(newLevel). For SparkR, use setLogLevel(newLevel).\n",
      "2022-05-19 12:16:05,915 WARN util.NativeCodeLoader: Unable to load native-hadoop library for your platform... using builtin-java classes where applicable\n"
     ]
    }
   ],
   "source": [
    "spark = SparkSession \\\n",
    "    .builder \\\n",
    "    .appName(\"SQL with SPARK\") \\\n",
    "    .enableHiveSupport() \\\n",
    "    .getOrCreate()"
   ]
  },
  {
   "cell_type": "markdown",
   "id": "89d374a5-63d5-4c5d-a7a2-4586eb17cb1e",
   "metadata": {},
   "source": [
    "\"spark\"  ist nun eine existierende SparkSession\n",
    "\n",
    "In dieser erstellen wir nun ein Dataframe, welches innerhalb dieses Spark-Session verfügbar ist:"
   ]
  },
  {
   "cell_type": "code",
   "execution_count": 11,
   "id": "aeb91a4f-91bb-4cb0-bbbe-11b2e7d005de",
   "metadata": {},
   "outputs": [
    {
     "name": "stderr",
     "output_type": "stream",
     "text": [
      "                                                                                \r"
     ]
    }
   ],
   "source": [
    "df = spark.read.parquet(\"/airline-data/airline.parquet\")"
   ]
  },
  {
   "cell_type": "code",
   "execution_count": 12,
   "id": "d0c242f3-6446-4013-81c3-645890b0dbbb",
   "metadata": {},
   "outputs": [
    {
     "name": "stderr",
     "output_type": "stream",
     "text": [
      "2022-05-19 12:45:33,302 WARN util.package: Truncated the string representation of a plan since it was too large. This behavior can be adjusted by setting 'spark.sql.debug.maxToStringFields'.\n",
      "[Stage 1:>                                                          (0 + 1) / 1]\r"
     ]
    },
    {
     "name": "stdout",
     "output_type": "stream",
     "text": [
      "+-----------------+-------+--------+-------+----------+----------+--------------+----------------+---------+------------+---------+----------+--------+-------+----+--------+--------+---------+-----------------+-----+--------+------+-------------+-------+------+-------+-------------+------------+----+\n",
      "|ActualElapsedTime|AirTime|ArrDelay|ArrTime|CRSArrTime|CRSDepTime|CRSElapsedTime|CancellationCode|Cancelled|CarrierDelay|DayOfWeek|DayofMonth|DepDelay|DepTime|Dest|Distance|Diverted|FlightNum|LateAircraftDelay|Month|NASDelay|Origin|SecurityDelay|TailNum|TaxiIn|TaxiOut|UniqueCarrier|WeatherDelay|Year|\n",
      "+-----------------+-------+--------+-------+----------+----------+--------------+----------------+---------+------------+---------+----------+--------+-------+----+--------+--------+---------+-----------------+-----+--------+------+-------------+-------+------+-------+-------------+------------+----+\n",
      "|              120|     98|       4|   1214|      1210|       915|           115|            null|        0|           0|        7|        23|      -1|    914| MSP|     680|       0|     1436|                0|    7|       0|   DEN|            0| N505US|     6|     16|           NW|           0|2006|\n",
      "|              154|    130|      13|   2309|      2256|      1935|           141|            null|        0|          NA|        4|         3|       0|   1935| DEN|     967|       0|      482|               NA|    4|      NA|   SFO|           NA| N305UA|     6|     18|           UA|          NA|2008|\n",
      "|              250|    221|       5|   2301|      2256|      1640|           256|              NA|        0|          NA|        1|        28|      11|   1651| EWR|    1968|       0|     2166|               NA|    2|      NA|   SLC|           NA| N375DA|     8|     21|           DL|          NA|2000|\n",
      "|               49|     28|       4|    801|       757|       715|            42|              NA|        0|          NA|        4|         2|      -3|    712| ROC|      79|       0|     1033|               NA|    4|      NA|   SYR|           NA| N419DA|     7|     14|           DL|          NA|1998|\n",
      "|               73|     61|      13|   1618|      1605|      1445|            80|              NA|        0|          NA|        5|        25|      20|   1505| OAK|     446|       0|     1171|               NA|    9|      NA|   SAN|           NA|   N326|     3|      9|           WN|          NA|1998|\n",
      "|              171|    150|      11|   1642|      1631|      1350|           161|              NA|        0|          NA|        7|        26|       1|   1351| ATL|     946|       0|     1479|               NA|    5|      NA|   BOS|           NA| N637DL|     9|     12|           DL|          NA|2002|\n",
      "|               53|     NA|       8|   1354|      1346|      1251|            55|              NA|        0|          NA|        5|        22|      10|   1301| BUR|     223|       0|     1561|               NA|    4|      NA|   LAS|           NA|     NA|    NA|     NA|           US|          NA|1988|\n",
      "|              129|     NA|      12|   2237|      2225|      2124|           121|              NA|        0|          NA|        4|         9|       4|   2128| SEA|     689|       0|     1175|               NA|   11|      NA|   SLC|           NA|     NA|    NA|     NA|           DL|          NA|1989|\n",
      "|              303|    238|     176|     54|      2158|      1950|           248|            null|        0|          25|        4|         1|     121|   2151| TUS|    1541|       0|     1458|               48|    3|      55|   ATL|            0| N687DL|     5|     60|           DL|          48|2007|\n",
      "|               78|     NA|      -8|   1956|      2004|      1840|            84|              NA|        0|          NA|        3|        20|      -2|   1838| SFO|     451|       0|     1929|               NA|    5|      NA|   EUG|           NA|     NA|    NA|     NA|           UA|          NA|1992|\n",
      "+-----------------+-------+--------+-------+----------+----------+--------------+----------------+---------+------------+---------+----------+--------+-------+----+--------+--------+---------+-----------------+-----+--------+------+-------------+-------+------+-------+-------------+------------+----+\n",
      "only showing top 10 rows\n",
      "\n"
     ]
    },
    {
     "name": "stderr",
     "output_type": "stream",
     "text": [
      "                                                                                \r"
     ]
    }
   ],
   "source": [
    "df.show(n=10)"
   ]
  },
  {
   "cell_type": "markdown",
   "id": "4a384c7f-64e9-467e-8756-fbced06946a9",
   "metadata": {},
   "source": [
    "## Plausibilisierung des DataFrames"
   ]
  },
  {
   "cell_type": "markdown",
   "id": "c5037ce5-d71b-42f7-b053-2b924c0ffbf0",
   "metadata": {},
   "source": [
    "Vor der Bearbeitung der Fragestellungen muss der Datensatz zuerst noch plausibilisiert werden. Hierfür zählen wir die Datensätze:"
   ]
  },
  {
   "cell_type": "code",
   "execution_count": 16,
   "id": "f92f669a-3c11-4446-a796-8fe67459ce72",
   "metadata": {},
   "outputs": [],
   "source": [
    "df.createOrReplaceTempView(\"df\")"
   ]
  },
  {
   "cell_type": "code",
   "execution_count": 17,
   "id": "bf7ab665-30f7-492e-a242-8fefb2525b1e",
   "metadata": {},
   "outputs": [],
   "source": [
    "anzahlZeilen = spark.sql(\"SELECT COUNT(FlightNum) FROM df\")"
   ]
  },
  {
   "cell_type": "code",
   "execution_count": 18,
   "id": "d0b72d6a-b33d-43eb-8e5a-3cbf70afc10a",
   "metadata": {},
   "outputs": [
    {
     "name": "stderr",
     "output_type": "stream",
     "text": [
      "[Stage 2:===================================================>     (50 + 5) / 55]\r"
     ]
    },
    {
     "name": "stdout",
     "output_type": "stream",
     "text": [
      "+----------------+\n",
      "|count(FlightNum)|\n",
      "+----------------+\n",
      "|       123534969|\n",
      "+----------------+\n",
      "\n"
     ]
    },
    {
     "name": "stderr",
     "output_type": "stream",
     "text": [
      "                                                                                \r"
     ]
    }
   ],
   "source": [
    "anzahlZeilen.show()"
   ]
  },
  {
   "cell_type": "markdown",
   "id": "d97b9a15-1c29-463d-961d-7f81b4429209",
   "metadata": {},
   "source": [
    "Die Auswertung zeigt, dass im Datensatz 123.5 Mio Flugzeilen enthalten sind. Dies haben wir über den Datensatz lokal auf dem Laptop verifiziert (:-)= würde natürlich bei einem echten Big-Data-Problem nicht funktionieren."
   ]
  },
  {
   "cell_type": "markdown",
   "id": "2e6e361d-7e58-4035-a462-a959604536e9",
   "metadata": {},
   "source": [
    "# Fragestellungen"
   ]
  },
  {
   "cell_type": "markdown",
   "id": "f11c1bc0-bad5-4d84-8c19-ff1d137eb0ff",
   "metadata": {},
   "source": [
    "Die nachfolgenden Abfragen können somit nun in der SparkSession und auf dem DataFrame ausgewertet werden."
   ]
  },
  {
   "cell_type": "markdown",
   "id": "5280ef6f-7069-4970-92fd-f310762ff890",
   "metadata": {},
   "source": [
    "### Fluggesellschaften"
   ]
  },
  {
   "cell_type": "markdown",
   "id": "9deca3cb-2935-49e1-b704-fe912f652691",
   "metadata": {
    "tags": []
   },
   "source": [
    "#### Welche Fluggesellschaften haben prozentual (+/-) die grössten Abweichungen der geplanten Flugzeit zur effektiven Flugzeit (geplante Abflugzeit bis effektive Ankunftszeit)?"
   ]
  },
  {
   "cell_type": "code",
   "execution_count": 20,
   "id": "08512935-53cd-4277-b711-636e792ad672",
   "metadata": {},
   "outputs": [],
   "source": [
    "fluggesellschaften = spark.sql(\"SELECT UniqueCarrier, SUM(ArrDelay) FROM df GROUP BY UniqueCarrier\")"
   ]
  },
  {
   "cell_type": "code",
   "execution_count": 21,
   "id": "a1c0d257-567f-4fde-87f2-68634ea48ba1",
   "metadata": {},
   "outputs": [
    {
     "name": "stderr",
     "output_type": "stream",
     "text": [
      "[Stage 5:=======================================================> (54 + 1) / 55]\r"
     ]
    },
    {
     "name": "stdout",
     "output_type": "stream",
     "text": [
      "+-------------+-------------+\n",
      "|UniqueCarrier|sum(ArrDelay)|\n",
      "+-------------+-------------+\n",
      "|           UA| 1.10685605E8|\n",
      "|           EA|    6279305.0|\n",
      "|           PI|    9022518.0|\n",
      "|           PS|     762188.0|\n",
      "|           AA|  9.9540007E7|\n",
      "|           NW|  5.5155194E7|\n",
      "|           EV|  1.7671819E7|\n",
      "|           B6|    7724044.0|\n",
      "|           HP|  2.7049187E7|\n",
      "|           TW|  2.5218176E7|\n",
      "|           DL| 1.22853432E8|\n",
      "|           OO|  1.7751788E7|\n",
      "|           F9|    1906321.0|\n",
      "|           YV|    9409631.0|\n",
      "|           TZ|    1262537.0|\n",
      "|           US|  8.8558778E7|\n",
      "|           AQ|     175282.0|\n",
      "|           MQ|  3.2432586E7|\n",
      "|           OH|  1.0580107E7|\n",
      "|           HA|    -211526.0|\n",
      "+-------------+-------------+\n",
      "only showing top 20 rows\n",
      "\n"
     ]
    },
    {
     "name": "stderr",
     "output_type": "stream",
     "text": [
      "                                                                                \r"
     ]
    }
   ],
   "source": [
    "fluggesellschaften.show()"
   ]
  },
  {
   "cell_type": "markdown",
   "id": "33353882-4ca6-4f8d-b067-ef80eadf0cd9",
   "metadata": {},
   "source": [
    "#### Bei welchen Fluggesellschaften werden die meisten Flüge gestrichen?"
   ]
  },
  {
   "cell_type": "code",
   "execution_count": null,
   "id": "cd8d41fc-6daf-4f35-9ca8-5ebeefd891eb",
   "metadata": {},
   "outputs": [],
   "source": []
  },
  {
   "cell_type": "markdown",
   "id": "24e96495-eb83-438d-88c3-5a2a2d0fec0f",
   "metadata": {},
   "source": [
    "#"
   ]
  },
  {
   "cell_type": "markdown",
   "id": "332878a0-3880-4936-bb30-213c41a6df7a",
   "metadata": {},
   "source": [
    "### Flughäfen"
   ]
  },
  {
   "cell_type": "markdown",
   "id": "8ed45ef3-baf2-4985-9337-5d3114827bc6",
   "metadata": {},
   "source": [
    "#### Welche 10 Flughäfen haben die kleinste und grösste Abflugverspätung (ohne cancellation)?"
   ]
  },
  {
   "cell_type": "code",
   "execution_count": null,
   "id": "e9e29829-31bc-4e5c-bd56-79aadf5be6fa",
   "metadata": {},
   "outputs": [],
   "source": []
  },
  {
   "cell_type": "markdown",
   "id": "6db14632-de74-4a29-abe6-126e172882c7",
   "metadata": {},
   "source": [
    "#### Bei welchen Flughäfen werden die meisten Flüge gestrichen?"
   ]
  },
  {
   "cell_type": "code",
   "execution_count": null,
   "id": "68027a66-ba6b-44e0-996c-6fa10ece80b7",
   "metadata": {
    "tags": []
   },
   "outputs": [],
   "source": []
  },
  {
   "cell_type": "markdown",
   "id": "6aab6eaa-92c9-464c-8998-2be18bddc897",
   "metadata": {},
   "source": [
    "#"
   ]
  },
  {
   "cell_type": "markdown",
   "id": "25ddfb23-1600-4983-987a-509ef65bb17f",
   "metadata": {
    "tags": []
   },
   "source": [
    "### Weitere Fragestellungen"
   ]
  },
  {
   "cell_type": "markdown",
   "id": "96bead9e-3581-4585-80d8-a15d240cce81",
   "metadata": {},
   "source": [
    "#### An welchen Tagen gibt es am meisten Flugbewegungen?"
   ]
  },
  {
   "cell_type": "code",
   "execution_count": null,
   "id": "de9b2960-1c83-4658-bf3d-88d22a3bbe99",
   "metadata": {
    "tags": []
   },
   "outputs": [],
   "source": []
  },
  {
   "cell_type": "markdown",
   "id": "c0532335-7e76-4a0c-adb6-512b42548c45",
   "metadata": {},
   "source": [
    "#### Können Unregelmässigkeiten wie Naturkatastrophen oder Terroranschläge festgestellt werden? "
   ]
  },
  {
   "cell_type": "code",
   "execution_count": null,
   "id": "f29efd35-9325-4c2d-9f2d-3b1f2d675902",
   "metadata": {},
   "outputs": [],
   "source": []
  }
 ],
 "metadata": {
  "kernelspec": {
   "display_name": "Python 3 (ipykernel)",
   "language": "python",
   "name": "python3"
  },
  "language_info": {
   "codemirror_mode": {
    "name": "ipython",
    "version": 3
   },
   "file_extension": ".py",
   "mimetype": "text/x-python",
   "name": "python",
   "nbconvert_exporter": "python",
   "pygments_lexer": "ipython3",
   "version": "3.8.10"
  }
 },
 "nbformat": 4,
 "nbformat_minor": 5
}
