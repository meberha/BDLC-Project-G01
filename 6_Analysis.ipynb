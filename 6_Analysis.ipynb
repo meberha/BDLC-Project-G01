{
 "cells": [
  {
   "cell_type": "markdown",
   "id": "ad64a24f-b1f1-4821-b4d2-281c4b95669f",
   "metadata": {},
   "source": [
    "# Analysis"
   ]
  },
  {
   "cell_type": "markdown",
   "id": "057045db-d012-42ff-9449-fb43713fdc1e",
   "metadata": {},
   "source": [
    "In der Phase des Prototyping haben wir vom Datenset erst die ersten 1'000 Zeilen verwendet. Nach den Erkenntnissen aus dem Prototyping laden wir nun die vollständigen Daten auf unseren Cluster.\n",
    "\n",
    "Der verwendete Datensatz verfügt über zwei Files. Das grosse File steht als CSV-File zur Verfügung, das zweite (Carriers) wird als TXT-File hochgeladen.\n",
    "Beim Prototyping hat sich gezeigt, dass die Datenmenge beim Speichern als Parquet signifikant reduziert hat. Somit können wir die Performance der Berechnungen verbessern, wenn wir unseren vollständigen Datensatz ebenfalls als Parquet speichern."
   ]
  },
  {
   "cell_type": "markdown",
   "id": "8037be56-b57b-4d74-bb5e-2e90e01c14c9",
   "metadata": {},
   "source": [
    "### Weshalb Parquet?"
   ]
  },
  {
   "cell_type": "markdown",
   "id": "864d203d-c25e-4c70-8173-be7991ec53db",
   "metadata": {},
   "source": [
    "Unser Datensatz verfügt über ca. 12GB Daten. Da Parquet auf Geschwindigkeit und Komprimierung optimiert ist, eigent sich dieses Format für solch grosse Datenmengen. Auch verfügt unser Datensatz über 29 Spalten. Bei all unseren Fragestellungen benötigen wir jedoch nur immer einen Bruchteil der Spalten, weshalb das Auslesen der Daten (was immer Zeilenweise geschieht) schneller ist mit Parquet.\n",
    "Auch haben wir viele identische \"NA\" Einträge, welche durch die Kompirimierung die Datenmenge signifikant reduziert."
   ]
  },
  {
   "cell_type": "markdown",
   "id": "78798195-d1c3-4ec1-982e-571c401629e0",
   "metadata": {},
   "source": [
    "## Bereitstellen der vollständigen Daten"
   ]
  },
  {
   "cell_type": "markdown",
   "id": "66923cd2-55e7-46c0-92d4-a2decdcfba83",
   "metadata": {},
   "source": [
    "Das Verzeichnis ist bereits aus dem Prototypin vorhanden. Wir werwenden  /airline-data."
   ]
  },
  {
   "cell_type": "code",
   "execution_count": null,
   "id": "b3750195-59f5-4aaa-8587-b7ff9e9f164d",
   "metadata": {},
   "outputs": [],
   "source": [
    "!hdfs dfs -ls /airline-data"
   ]
  },
  {
   "cell_type": "code",
   "execution_count": null,
   "id": "bea8ca6e-b2e8-4d58-8ce2-650a77076913",
   "metadata": {},
   "outputs": [],
   "source": [
    "# !hdfs dfs -put ~/BDLC-Project-G01/Dataset/airline.csv /airline-data\n",
    "# !hdfs dfs -put ~/BDLC-Project-G01/Dataset/carriers.txt /airline-data"
   ]
  },
  {
   "cell_type": "code",
   "execution_count": 2,
   "id": "8bb7d2ed-60e7-428b-96c4-60aeb95f2aeb",
   "metadata": {},
   "outputs": [
    {
     "name": "stdout",
     "output_type": "stream",
     "text": [
      "Found 2 items\n",
      "drwxr-xr-x   - cluster supergroup          0 2022-05-12 12:35 /airline-data/airline.parquet\n",
      "-rw-r--r--   2 cluster supergroup      43758 2022-05-12 12:29 /airline-data/carriers.txt\n"
     ]
    }
   ],
   "source": [
    "!hdfs dfs -ls /airline-data"
   ]
  },
  {
   "cell_type": "markdown",
   "id": "b1852555-2f86-4f21-9745-2f325965317c",
   "metadata": {},
   "source": [
    "### 1. Daten als Parquet speichern"
   ]
  },
  {
   "cell_type": "code",
   "execution_count": 1,
   "id": "811af3bf-b43e-497d-8e2c-aa4d531ff405",
   "metadata": {},
   "outputs": [],
   "source": [
    "from pyspark.sql import SparkSession"
   ]
  },
  {
   "cell_type": "code",
   "execution_count": null,
   "id": "9922920e-126d-4554-a10b-0707cc5aee01",
   "metadata": {},
   "outputs": [],
   "source": [
    "spark = SparkSession.builder.appName('ConvertToParquet').getOrCreate()"
   ]
  },
  {
   "cell_type": "code",
   "execution_count": null,
   "id": "6ac456cb-5d00-4e1a-b9e5-55ff8ba17714",
   "metadata": {},
   "outputs": [],
   "source": [
    "!hdfs dfs -ls /airline-data/"
   ]
  },
  {
   "cell_type": "markdown",
   "id": "29bac386-7e14-45ac-954e-0263e831cb0d",
   "metadata": {},
   "source": [
    "### a) Parquet File schreiben"
   ]
  },
  {
   "cell_type": "code",
   "execution_count": null,
   "id": "cce2b123-d562-4f61-a83d-f3f9ff96e528",
   "metadata": {},
   "outputs": [],
   "source": [
    "!hdfs dfs -cat /airline-data/airline.csv | head"
   ]
  },
  {
   "cell_type": "code",
   "execution_count": null,
   "id": "9c18fd53-fcee-4dfd-bab3-183a773700d7",
   "metadata": {},
   "outputs": [],
   "source": [
    "spark.read.csv('/airline-data/airline.csv', header=True).repartition(55).write.parquet('/airline-data/airline.parquet')"
   ]
  },
  {
   "cell_type": "code",
   "execution_count": 171,
   "id": "16095dbd-a446-4b6e-8e56-3879d1e36f5d",
   "metadata": {},
   "outputs": [
    {
     "name": "stdout",
     "output_type": "stream",
     "text": [
      "Found 2 items\n",
      "drwxr-xr-x   - cluster supergroup          0 2022-05-12 12:35 /airline-data/airline.parquet\n",
      "drwxr-xr-x   - cluster supergroup          0 2022-05-22 14:41 /airline-data/carriers.parquet\n"
     ]
    }
   ],
   "source": [
    "!hdfs dfs -ls /airline-data/"
   ]
  },
  {
   "cell_type": "code",
   "execution_count": null,
   "id": "35b50511-b390-4c45-86d3-b920a189e737",
   "metadata": {},
   "outputs": [],
   "source": [
    "!hdfs dfs -cat /airline-data/carriers.txt | head"
   ]
  },
  {
   "cell_type": "code",
   "execution_count": 22,
   "id": "8d021ef3-0e1c-4dfa-9893-1aacf2ef68e3",
   "metadata": {},
   "outputs": [
    {
     "name": "stderr",
     "output_type": "stream",
     "text": [
      "                                                                                \r"
     ]
    }
   ],
   "source": [
    "spark.read.csv('/airline-data/carriers.txt', header=True).repartition(55).write.parquet('/airline-data/carriers.parquet')"
   ]
  },
  {
   "cell_type": "code",
   "execution_count": 23,
   "id": "30df4252-5abb-448c-b442-d24b8018757c",
   "metadata": {},
   "outputs": [
    {
     "name": "stdout",
     "output_type": "stream",
     "text": [
      "Found 3 items\n",
      "drwxr-xr-x   - cluster supergroup          0 2022-05-12 12:35 /airline-data/airline.parquet\n",
      "drwxr-xr-x   - cluster supergroup          0 2022-05-22 14:41 /airline-data/carriers.parquet\n",
      "-rw-r--r--   2 cluster supergroup      43758 2022-05-12 12:29 /airline-data/carriers.txt\n"
     ]
    }
   ],
   "source": [
    "!hdfs dfs -ls /airline-data/"
   ]
  },
  {
   "cell_type": "markdown",
   "id": "8c96762e-84e1-4ced-a70e-f36a2e120cf7",
   "metadata": {},
   "source": [
    "### b) Raw File löschen"
   ]
  },
  {
   "cell_type": "code",
   "execution_count": null,
   "id": "97026cfc-0f92-4409-995a-5f67ef2d5093",
   "metadata": {},
   "outputs": [],
   "source": [
    "!hdfs dfs -rm /airline-data/airline.csv"
   ]
  },
  {
   "cell_type": "code",
   "execution_count": 24,
   "id": "0c8917ff-73ed-405c-86bd-23baf9a850ef",
   "metadata": {},
   "outputs": [
    {
     "name": "stdout",
     "output_type": "stream",
     "text": [
      "Deleted /airline-data/carriers.txt\n"
     ]
    }
   ],
   "source": [
    "!hdfs dfs -rm /airline-data/carriers.txt"
   ]
  },
  {
   "cell_type": "code",
   "execution_count": 173,
   "id": "d1c4d38b-654e-4265-a5fb-ca0f07014afe",
   "metadata": {},
   "outputs": [
    {
     "name": "stdout",
     "output_type": "stream",
     "text": [
      "Found 2 items\n",
      "drwxr-xr-x   - cluster supergroup          0 2022-05-12 12:35 /airline-data/airline.parquet\n",
      "drwxr-xr-x   - cluster supergroup          0 2022-05-22 14:41 /airline-data/carriers.parquet\n"
     ]
    }
   ],
   "source": [
    "!hdfs dfs -ls /airline-data/"
   ]
  },
  {
   "cell_type": "markdown",
   "id": "dd7c9bf2-8780-42b1-8a35-42e308716ee9",
   "metadata": {},
   "source": [
    "### c) Spark-Session stoppen"
   ]
  },
  {
   "cell_type": "code",
   "execution_count": null,
   "id": "a4facc1d-79cb-4edf-9227-b058eafdf533",
   "metadata": {},
   "outputs": [],
   "source": [
    "# Die SPARK-Sesseion Con\n",
    "spark.stop()"
   ]
  },
  {
   "cell_type": "markdown",
   "id": "6ec18ea4-5fe1-4549-9021-fdda821fb3bd",
   "metadata": {
    "tags": []
   },
   "source": [
    "## Datensatz in Tabelle schreiben"
   ]
  },
  {
   "cell_type": "code",
   "execution_count": null,
   "id": "595ab904-6f8f-4ca1-a5d4-eacc5ea9877f",
   "metadata": {},
   "outputs": [],
   "source": [
    "#!hdfs dfs -mkdir /user/spark/warehouse"
   ]
  },
  {
   "cell_type": "code",
   "execution_count": 2,
   "id": "927446f2-b7da-47fd-9d54-09fd67ab9114",
   "metadata": {},
   "outputs": [],
   "source": [
    "import findspark\n",
    "findspark.init()"
   ]
  },
  {
   "cell_type": "code",
   "execution_count": 3,
   "id": "83b93059-6fa5-4714-b6ad-55b380a88a78",
   "metadata": {},
   "outputs": [],
   "source": [
    "from pyspark.sql import SparkSession"
   ]
  },
  {
   "cell_type": "code",
   "execution_count": 4,
   "id": "945cc4f2-d661-4847-a916-73c9f8b99058",
   "metadata": {},
   "outputs": [
    {
     "name": "stderr",
     "output_type": "stream",
     "text": [
      "Setting default log level to \"WARN\".\n",
      "To adjust logging level use sc.setLogLevel(newLevel). For SparkR, use setLogLevel(newLevel).\n",
      "2022-05-27 07:33:45,014 WARN util.NativeCodeLoader: Unable to load native-hadoop library for your platform... using builtin-java classes where applicable\n"
     ]
    }
   ],
   "source": [
    "spark = SparkSession \\\n",
    "    .builder \\\n",
    "    .appName(\"SQL with SPARK\") \\\n",
    "    .enableHiveSupport() \\\n",
    "    .getOrCreate()"
   ]
  },
  {
   "cell_type": "markdown",
   "id": "89d374a5-63d5-4c5d-a7a2-4586eb17cb1e",
   "metadata": {},
   "source": [
    "\"spark\"  ist nun eine existierende SparkSession (siehe: http://bdlc-05.el.eee.intern:8080/ )\n",
    "\n",
    "In dieser erstellen wir nun ein Dataframe, welches innerhalb dieses Spark-Session verfügbar ist:"
   ]
  },
  {
   "cell_type": "markdown",
   "id": "e69e2813-a517-4d7e-8c58-3276e67509de",
   "metadata": {
    "tags": []
   },
   "source": [
    "### Airline-Daten"
   ]
  },
  {
   "cell_type": "code",
   "execution_count": 5,
   "id": "aeb91a4f-91bb-4cb0-bbbe-11b2e7d005de",
   "metadata": {},
   "outputs": [
    {
     "name": "stderr",
     "output_type": "stream",
     "text": [
      "                                                                                \r"
     ]
    }
   ],
   "source": [
    "df_air = spark.read.parquet(\"/airline-data/airline.parquet\")"
   ]
  },
  {
   "cell_type": "code",
   "execution_count": 6,
   "id": "d0c242f3-6446-4013-81c3-645890b0dbbb",
   "metadata": {},
   "outputs": [
    {
     "name": "stderr",
     "output_type": "stream",
     "text": [
      "2022-05-27 07:34:03,118 WARN util.package: Truncated the string representation of a plan since it was too large. This behavior can be adjusted by setting 'spark.sql.debug.maxToStringFields'.\n",
      "[Stage 1:>                                                          (0 + 1) / 1]\r"
     ]
    },
    {
     "name": "stdout",
     "output_type": "stream",
     "text": [
      "+-----------------+-------+--------+-------+----------+----------+--------------+----------------+---------+------------+---------+----------+--------+-------+----+--------+--------+---------+-----------------+-----+--------+------+-------------+-------+------+-------+-------------+------------+----+\n",
      "|ActualElapsedTime|AirTime|ArrDelay|ArrTime|CRSArrTime|CRSDepTime|CRSElapsedTime|CancellationCode|Cancelled|CarrierDelay|DayOfWeek|DayofMonth|DepDelay|DepTime|Dest|Distance|Diverted|FlightNum|LateAircraftDelay|Month|NASDelay|Origin|SecurityDelay|TailNum|TaxiIn|TaxiOut|UniqueCarrier|WeatherDelay|Year|\n",
      "+-----------------+-------+--------+-------+----------+----------+--------------+----------------+---------+------------+---------+----------+--------+-------+----+--------+--------+---------+-----------------+-----+--------+------+-------------+-------+------+-------+-------------+------------+----+\n",
      "|              120|     98|       4|   1214|      1210|       915|           115|            null|        0|           0|        7|        23|      -1|    914| MSP|     680|       0|     1436|                0|    7|       0|   DEN|            0| N505US|     6|     16|           NW|           0|2006|\n",
      "|              154|    130|      13|   2309|      2256|      1935|           141|            null|        0|          NA|        4|         3|       0|   1935| DEN|     967|       0|      482|               NA|    4|      NA|   SFO|           NA| N305UA|     6|     18|           UA|          NA|2008|\n",
      "|              250|    221|       5|   2301|      2256|      1640|           256|              NA|        0|          NA|        1|        28|      11|   1651| EWR|    1968|       0|     2166|               NA|    2|      NA|   SLC|           NA| N375DA|     8|     21|           DL|          NA|2000|\n",
      "|               49|     28|       4|    801|       757|       715|            42|              NA|        0|          NA|        4|         2|      -3|    712| ROC|      79|       0|     1033|               NA|    4|      NA|   SYR|           NA| N419DA|     7|     14|           DL|          NA|1998|\n",
      "|               73|     61|      13|   1618|      1605|      1445|            80|              NA|        0|          NA|        5|        25|      20|   1505| OAK|     446|       0|     1171|               NA|    9|      NA|   SAN|           NA|   N326|     3|      9|           WN|          NA|1998|\n",
      "|              171|    150|      11|   1642|      1631|      1350|           161|              NA|        0|          NA|        7|        26|       1|   1351| ATL|     946|       0|     1479|               NA|    5|      NA|   BOS|           NA| N637DL|     9|     12|           DL|          NA|2002|\n",
      "|               53|     NA|       8|   1354|      1346|      1251|            55|              NA|        0|          NA|        5|        22|      10|   1301| BUR|     223|       0|     1561|               NA|    4|      NA|   LAS|           NA|     NA|    NA|     NA|           US|          NA|1988|\n",
      "|              129|     NA|      12|   2237|      2225|      2124|           121|              NA|        0|          NA|        4|         9|       4|   2128| SEA|     689|       0|     1175|               NA|   11|      NA|   SLC|           NA|     NA|    NA|     NA|           DL|          NA|1989|\n",
      "|              303|    238|     176|     54|      2158|      1950|           248|            null|        0|          25|        4|         1|     121|   2151| TUS|    1541|       0|     1458|               48|    3|      55|   ATL|            0| N687DL|     5|     60|           DL|          48|2007|\n",
      "|               78|     NA|      -8|   1956|      2004|      1840|            84|              NA|        0|          NA|        3|        20|      -2|   1838| SFO|     451|       0|     1929|               NA|    5|      NA|   EUG|           NA|     NA|    NA|     NA|           UA|          NA|1992|\n",
      "+-----------------+-------+--------+-------+----------+----------+--------------+----------------+---------+------------+---------+----------+--------+-------+----+--------+--------+---------+-----------------+-----+--------+------+-------------+-------+------+-------+-------------+------------+----+\n",
      "only showing top 10 rows\n",
      "\n"
     ]
    },
    {
     "name": "stderr",
     "output_type": "stream",
     "text": [
      "                                                                                \r"
     ]
    }
   ],
   "source": [
    "df_air.show(n=10)"
   ]
  },
  {
   "cell_type": "markdown",
   "id": "a16b0b88-beb6-4554-8a02-03056a5cb276",
   "metadata": {},
   "source": [
    "### Carrier-Daten"
   ]
  },
  {
   "cell_type": "code",
   "execution_count": 7,
   "id": "a864d94e-3ac1-4f06-a580-d5167025ec24",
   "metadata": {},
   "outputs": [],
   "source": [
    "df_carr = spark.read.parquet(\"/airline-data/carriers.parquet\")"
   ]
  },
  {
   "cell_type": "code",
   "execution_count": 8,
   "id": "98461a5c-5267-48ce-a434-df2bf859f2fd",
   "metadata": {},
   "outputs": [
    {
     "name": "stderr",
     "output_type": "stream",
     "text": [
      "[Stage 3:>                                                          (0 + 1) / 1]\r"
     ]
    },
    {
     "name": "stdout",
     "output_type": "stream",
     "text": [
      "+----+------------------------------------------------+\n",
      "|Code|Description                                     |\n",
      "+----+------------------------------------------------+\n",
      "|AAA |Associated Aviation Act.                        |\n",
      "|RIA |Trump Air                                       |\n",
      "|LB  |Lloyd Aereo Boliviano S. A.                     |\n",
      "|6R  |Aerounion Aerotransporte de Carga Union SA de CV|\n",
      "|4H  |Belize Trans Air                                |\n",
      "|MEA |Manhattan Express                               |\n",
      "|TR  |Transbrasil S.A.                                |\n",
      "|KL  |Klm Royal Dutch Airlines                        |\n",
      "|CRN |Crown Aviaiton Inc.                             |\n",
      "|CHD |Chandler Flyer                                  |\n",
      "+----+------------------------------------------------+\n",
      "only showing top 10 rows\n",
      "\n"
     ]
    },
    {
     "name": "stderr",
     "output_type": "stream",
     "text": [
      "                                                                                \r"
     ]
    }
   ],
   "source": [
    "df_carr.show(n=10, truncate=False)\n",
    "#verwendete Option Truncate = damit der Content der Description vollständig aufgeführt wird."
   ]
  },
  {
   "cell_type": "markdown",
   "id": "4a384c7f-64e9-467e-8756-fbced06946a9",
   "metadata": {},
   "source": [
    "## Plausibilisierung des DataFrames"
   ]
  },
  {
   "cell_type": "markdown",
   "id": "c5037ce5-d71b-42f7-b053-2b924c0ffbf0",
   "metadata": {},
   "source": [
    "Vor der Bearbeitung der Fragestellungen muss der Datensatz zuerst noch plausibilisiert werden. Hierfür zählen wir die Datensätze:"
   ]
  },
  {
   "cell_type": "markdown",
   "id": "36140204-8704-468e-8a89-7ec363d8bcbd",
   "metadata": {},
   "source": [
    "### Airline"
   ]
  },
  {
   "cell_type": "code",
   "execution_count": 9,
   "id": "f92f669a-3c11-4446-a796-8fe67459ce72",
   "metadata": {},
   "outputs": [],
   "source": [
    "df_air.createOrReplaceTempView(\"df_air\")"
   ]
  },
  {
   "cell_type": "code",
   "execution_count": 10,
   "id": "bf7ab665-30f7-492e-a242-8fefb2525b1e",
   "metadata": {},
   "outputs": [],
   "source": [
    "anzahlZeilen = spark.sql(\"SELECT COUNT(FlightNum) FROM df_air\")"
   ]
  },
  {
   "cell_type": "code",
   "execution_count": 11,
   "id": "ad459150-e84a-4dec-85a0-095542d6d573",
   "metadata": {},
   "outputs": [
    {
     "name": "stderr",
     "output_type": "stream",
     "text": [
      "[Stage 4:===================================================>     (50 + 5) / 55]\r"
     ]
    },
    {
     "name": "stdout",
     "output_type": "stream",
     "text": [
      "+----------------+\n",
      "|count(FlightNum)|\n",
      "+----------------+\n",
      "|       123534969|\n",
      "+----------------+\n",
      "\n"
     ]
    },
    {
     "name": "stderr",
     "output_type": "stream",
     "text": [
      "                                                                                \r"
     ]
    }
   ],
   "source": [
    "anzahlZeilen.show()"
   ]
  },
  {
   "cell_type": "markdown",
   "id": "d97b9a15-1c29-463d-961d-7f81b4429209",
   "metadata": {},
   "source": [
    "Die Auswertung zeigt, dass im Datensatz 123.5 Mio Flugzeilen enthalten sind. Dies haben wir über den Datensatz lokal auf dem Laptop verifiziert (:-)= würde natürlich bei einem echten Big-Data-Problem nicht funktionieren."
   ]
  },
  {
   "cell_type": "code",
   "execution_count": 62,
   "id": "128231f9-b86f-4502-ab1e-c824848a1cf4",
   "metadata": {},
   "outputs": [
    {
     "name": "stderr",
     "output_type": "stream",
     "text": [
      "                                                                                \r"
     ]
    },
    {
     "data": {
      "text/plain": [
       "29"
      ]
     },
     "execution_count": 62,
     "metadata": {},
     "output_type": "execute_result"
    }
   ],
   "source": [
    "anzahlFluggesellschaften = spark.sql(\"SELECT UniqueCarrier FROM df_air GROUP BY UniqueCarrier\")\n",
    "anzahlFluggesellschaften.count()"
   ]
  },
  {
   "cell_type": "markdown",
   "id": "c352e754-bc32-4668-a51a-9bfaca9b0dc2",
   "metadata": {},
   "source": [
    "In den Flugdaten sind lediglich von 29 Fluggesellschaften die Flugdaten enthalten. Dies zur Plausibilisierung der Outputs der kommenden Fragestellungen."
   ]
  },
  {
   "cell_type": "markdown",
   "id": "36902997-c731-47d6-871a-d48b4b1d7747",
   "metadata": {},
   "source": [
    "### Carriers"
   ]
  },
  {
   "cell_type": "code",
   "execution_count": 15,
   "id": "9512c520-d008-4943-ad75-881d57ece71a",
   "metadata": {},
   "outputs": [],
   "source": [
    "df_carr.createOrReplaceTempView(\"df_carr\")"
   ]
  },
  {
   "cell_type": "code",
   "execution_count": 16,
   "id": "7643f457-ebc9-4c53-b449-b5ae66a25581",
   "metadata": {},
   "outputs": [],
   "source": [
    "anzahlFluggesellschaften = spark.sql(\"SELECT COUNT(Code) FROM df_carr\")"
   ]
  },
  {
   "cell_type": "code",
   "execution_count": 17,
   "id": "52a193ee-c04e-460a-84a8-0f40d24b4d5e",
   "metadata": {},
   "outputs": [
    {
     "name": "stdout",
     "output_type": "stream",
     "text": [
      "+-----------+\n",
      "|count(Code)|\n",
      "+-----------+\n",
      "|       1491|\n",
      "+-----------+\n",
      "\n"
     ]
    }
   ],
   "source": [
    "anzahlFluggesellschaften.show()"
   ]
  },
  {
   "cell_type": "markdown",
   "id": "b0e305b4-648c-4fbd-b791-63d71c25b4e0",
   "metadata": {},
   "source": [
    "Gemäss den Ausführungen auf Kaggle sind es 1'491 Datensätze. Somit ist der Datensatz korrekt im SPARK vorhanden."
   ]
  },
  {
   "cell_type": "code",
   "execution_count": 57,
   "id": "81b8758f-99a8-44d4-b766-b7bf14a14874",
   "metadata": {},
   "outputs": [
    {
     "name": "stdout",
     "output_type": "stream",
     "text": [
      "+----+--------------------------------------------+\n",
      "|Code|Description                                 |\n",
      "+----+--------------------------------------------+\n",
      "|02Q |Titan Airways                               |\n",
      "|04Q |Tradewind Aviation                          |\n",
      "|05Q |Comlux Aviation, AG                         |\n",
      "|06Q |Master Top Linhas Aereas Ltd.               |\n",
      "|07Q |Flair Airlines Ltd.                         |\n",
      "|09Q |Swift Air, LLC                              |\n",
      "|0BQ |DCA                                         |\n",
      "|0CQ |ACM AIR CHARTER GmbH                        |\n",
      "|0FQ |Maine Aviation Aircraft Charter, LLC        |\n",
      "|0GQ |Inter Island Airways, d/b/a Inter Island Air|\n",
      "|0HQ |Polar Airlines de Mexico d/b/a Nova Air     |\n",
      "|0J  |JetClub AG                                  |\n",
      "|0JQ |Vision Airlines                             |\n",
      "|0KQ |Mokulele Flight Services, Inc.              |\n",
      "|0LQ |Metropix UK, LLP.                           |\n",
      "|0MQ |Multi-Aero, Inc. d/b/a Air Choice One       |\n",
      "|0Q  |Flying Service N.V.                         |\n",
      "|16  |PSA Airlines Inc.                           |\n",
      "|17  |Piedmont Airlines                           |\n",
      "|1I  |Sky Trek Int'l Airlines                     |\n",
      "+----+--------------------------------------------+\n",
      "only showing top 20 rows\n",
      "\n"
     ]
    }
   ],
   "source": [
    "df_carr.sort(\"Code\").show(truncate=False)"
   ]
  },
  {
   "cell_type": "markdown",
   "id": "2e6e361d-7e58-4035-a462-a959604536e9",
   "metadata": {},
   "source": [
    "# Fragestellungen"
   ]
  },
  {
   "cell_type": "markdown",
   "id": "f11c1bc0-bad5-4d84-8c19-ff1d137eb0ff",
   "metadata": {},
   "source": [
    "Die nachfolgenden Abfragen können somit nun in der SparkSession und auf dem DataFrame \"df\" ausgewertet werden."
   ]
  },
  {
   "cell_type": "markdown",
   "id": "5280ef6f-7069-4970-92fd-f310762ff890",
   "metadata": {},
   "source": [
    "### Fluggesellschaften (UniqueCarrier)"
   ]
  },
  {
   "cell_type": "markdown",
   "id": "9deca3cb-2935-49e1-b704-fe912f652691",
   "metadata": {
    "tags": []
   },
   "source": [
    "#### Welche Fluggesellschaften hatte am meisten Verspätungen?"
   ]
  },
  {
   "cell_type": "code",
   "execution_count": 18,
   "id": "a1c0d257-567f-4fde-87f2-68634ea48ba1",
   "metadata": {},
   "outputs": [],
   "source": [
    "import pyspark.sql.functions as func\n",
    "\n",
    "flug = spark.sql(\"\"\"\n",
    "SELECT Description, UniqueCarrier, SUM(ArrDelay)/60/24 as DelayInDays \n",
    "FROM df_air JOIN df_carr ON df_air.UniqueCarrier = df_carr.Code \n",
    "GROUP BY Description, UniqueCarrier \n",
    "ORDER BY DelayInDays DESC\"\"\")\n",
    "flug2 = flug.withColumn(\"DelayInDays\", func.round(flug[\"DelayInDays\"],0))\n",
    "#Um die Funktion round zu verwenden, wurden die functions von pyspark.sql importiert"
   ]
  },
  {
   "cell_type": "markdown",
   "id": "579c4444-36a9-4451-8469-8f2a0b73d0f1",
   "metadata": {},
   "source": [
    "Für die nachfolgenden Plots wurde die Library matplotlib installiert."
   ]
  },
  {
   "cell_type": "code",
   "execution_count": 19,
   "id": "84e50f19-3055-4173-9916-4db0a1083c32",
   "metadata": {},
   "outputs": [],
   "source": [
    "#pip install matplotlib"
   ]
  },
  {
   "cell_type": "code",
   "execution_count": 66,
   "id": "ff794031-3677-4966-82b2-bb3d8529a9d9",
   "metadata": {},
   "outputs": [
    {
     "data": {
      "image/png": "[encoded data removed]",
      "text/plain": [
       "<Figure size 1440x360 with 1 Axes>"
      ]
     },
     "metadata": {
      "needs_background": "light"
     },
     "output_type": "display_data"
    },
    {
     "name": "stderr",
     "output_type": "stream",
     "text": [
      "[Stage 140:===================================================>   (51 + 4) / 55]\r"
     ]
    },
    {
     "name": "stdout",
     "output_type": "stream",
     "text": [
      "+-----------------------------------------------------------------------------------+-------------+-----------+\n",
      "|Description                                                                        |UniqueCarrier|DelayInDays|\n",
      "+-----------------------------------------------------------------------------------+-------------+-----------+\n",
      "|Delta Air Lines Inc.                                                               |DL           |85315.0    |\n",
      "|United Air Lines Inc.                                                              |UA           |76865.0    |\n",
      "|American Airlines Inc.                                                             |AA           |69125.0    |\n",
      "|US Airways Inc. (Merged with America West 9/05. Reporting for both starting 10/07.)|US           |61499.0    |\n",
      "|Southwest Airlines Co.                                                             |WN           |60555.0    |\n",
      "|Continental Air Lines Inc.                                                         |CO           |38772.0    |\n",
      "|Northwest Airlines Inc.                                                            |NW           |38302.0    |\n",
      "|American Eagle Airlines Inc.                                                       |MQ           |22523.0    |\n",
      "|America West Airlines Inc. (Merged with US Airways 9/05. Stopped reporting 10/07.) |HP           |18784.0    |\n",
      "|Trans World Airways LLC                                                            |TW           |17513.0    |\n",
      "|Alaska Airlines Inc.                                                               |AS           |16389.0    |\n",
      "|Expressjet Airlines Inc.                                                           |XE           |14386.0    |\n",
      "|Skywest Airlines Inc.                                                              |OO           |12328.0    |\n",
      "|Atlantic Southeast Airlines                                                        |EV           |12272.0    |\n",
      "|AirTran Airways Corporation                                                        |FL           |8227.0     |\n",
      "|Comair Inc.                                                                        |OH           |7347.0     |\n",
      "|Mesa Airlines Inc.                                                                 |YV           |6534.0     |\n",
      "|Piedmont Aviation Inc.                                                             |PI           |6266.0     |\n",
      "|JetBlue Airways                                                                    |B6           |5364.0     |\n",
      "|Eastern Air Lines Inc.                                                             |EA           |4361.0     |\n",
      "|Independence Air                                                                   |DH           |3162.0     |\n",
      "|Pinnacle Airlines Inc.                                                             |9E           |2140.0     |\n",
      "|Frontier Airlines Inc.                                                             |F9           |1324.0     |\n",
      "|Pan American World Airways (1)                                                     |PA (1)       |1175.0     |\n",
      "|ATA Airlines d/b/a ATA                                                             |TZ           |877.0      |\n",
      "|Pacific Southwest Airlines                                                         |PS           |529.0      |\n",
      "|Midway Airlines Inc. (1)                                                           |ML (1)       |228.0      |\n",
      "|Aloha Airlines Inc.                                                                |AQ           |122.0      |\n",
      "|Hawaiian Airlines Inc.                                                             |HA           |-147.0     |\n",
      "+-----------------------------------------------------------------------------------+-------------+-----------+\n",
      "\n"
     ]
    },
    {
     "name": "stderr",
     "output_type": "stream",
     "text": [
      "                                                                                \r"
     ]
    }
   ],
   "source": [
    "import matplotlib.pyplot as plt\n",
    "import pandas\n",
    "\n",
    "dfPlot2 = flug2\n",
    "\n",
    "fig = plt.figure(figsize=(20,5))\n",
    "ax = fig.add_axes([0,0,1,1])\n",
    "x=dfPlot.toPandas()[\"UniqueCarrier\"].values.tolist()\n",
    "y=dfPlot.toPandas()[\"DelayInDays\"].values.tolist()\n",
    "ax.set_title('Absolute Verspätungen in Tagen pro Fluggesellschaft', fontsize=20)\n",
    "ax.bar(x,y)\n",
    "plt.show()\n",
    "\n",
    "dfPlot2.show(50, truncate=False)"
   ]
  },
  {
   "cell_type": "markdown",
   "id": "f6c25bc9-4ce7-4337-adc5-fe8092b9b618",
   "metadata": {},
   "source": [
    "Absolut betrachtet hat die Fluggesellschaft DL (Delta Air Lines) insgesamt die längsten Verspätungen mit insgesamt 85'315 Tagen. Über die Qualität darf hierauf jedoch noch keine Aussage getroffen werden, denn wer mehr fliegt, hat evtl. auch mehr Verspätungen. Deshalb ist die relative Verspätung in der nächsten Frage abgehandelt."
   ]
  },
  {
   "cell_type": "markdown",
   "id": "4b922b79-cb0a-4bcf-8c16-178dbb352589",
   "metadata": {},
   "source": [
    "#### Welche Fluggesellschaften haben prozentual (+/-) die grössten Abweichungen der geplanten Flugzeit zur effektiven Flugzeit (geplante Abflugzeit bis effektive Ankunftszeit)?"
   ]
  },
  {
   "cell_type": "code",
   "execution_count": 21,
   "id": "733c2ca0-ddbe-4b28-9e37-aa7470042779",
   "metadata": {},
   "outputs": [],
   "source": [
    "import pyspark.sql.functions as func\n",
    "flug3 = spark.sql(\"\"\"\n",
    "SELECT Description, UniqueCarrier, SUM(ArrDelay)/SUM(AirTime)*100 as DelayPercentage \n",
    "FROM df_air JOIN df_carr ON df_air.UniqueCarrier = df_carr.Code \n",
    "GROUP BY Description, UniqueCarrier\n",
    "ORDER BY DelayPercentage DESC\"\"\")\n",
    "flug4 = flug3.withColumn(\"DelayPercentage\", func.round(flug3[\"DelayPercentage\"],3))"
   ]
  },
  {
   "cell_type": "code",
   "execution_count": 68,
   "id": "e005bd17-d79e-4b9e-8283-0d3968c035b6",
   "metadata": {},
   "outputs": [
    {
     "data": {
      "image/png": "[encoded data removed]",
      "text/plain": [
       "<Figure size 1440x360 with 1 Axes>"
      ]
     },
     "metadata": {
      "needs_background": "light"
     },
     "output_type": "display_data"
    },
    {
     "name": "stderr",
     "output_type": "stream",
     "text": [
      "[Stage 160:================================================>      (48 + 7) / 55]\r"
     ]
    },
    {
     "name": "stdout",
     "output_type": "stream",
     "text": [
      "+-----------------------------------------------------------------------------------+-------------+---------------+\n",
      "|Description                                                                        |UniqueCarrier|DelayPercentage|\n",
      "+-----------------------------------------------------------------------------------+-------------+---------------+\n",
      "|Atlantic Southeast Airlines                                                        |EV           |19.651         |\n",
      "|Mesa Airlines Inc.                                                                 |YV           |17.612         |\n",
      "|American Eagle Airlines Inc.                                                       |MQ           |13.763         |\n",
      "|Trans World Airways LLC                                                            |TW           |12.848         |\n",
      "|US Airways Inc. (Merged with America West 9/05. Reporting for both starting 10/07.)|US           |11.705         |\n",
      "|Delta Air Lines Inc.                                                               |DL           |11.344         |\n",
      "|Expressjet Airlines Inc.                                                           |XE           |10.908         |\n",
      "|Independence Air                                                                   |DH           |10.676         |\n",
      "|America West Airlines Inc. (Merged with US Airways 9/05. Stopped reporting 10/07.) |HP           |10.457         |\n",
      "|Comair Inc.                                                                        |OH           |10.439         |\n",
      "|United Air Lines Inc.                                                              |UA           |10.012         |\n",
      "|Alaska Airlines Inc.                                                               |AS           |9.992          |\n",
      "|AirTran Airways Corporation                                                        |FL           |9.832          |\n",
      "|Pinnacle Airlines Inc.                                                             |9E           |8.583          |\n",
      "|Southwest Airlines Co.                                                             |WN           |8.534          |\n",
      "|Continental Air Lines Inc.                                                         |CO           |8.473          |\n",
      "|Northwest Airlines Inc.                                                            |NW           |7.868          |\n",
      "|American Airlines Inc.                                                             |AA           |7.616          |\n",
      "|Skywest Airlines Inc.                                                              |OO           |7.406          |\n",
      "|JetBlue Airways                                                                    |B6           |6.034          |\n",
      "|Frontier Airlines Inc.                                                             |F9           |4.68           |\n",
      "|ATA Airlines d/b/a ATA                                                             |TZ           |4.038          |\n",
      "|Aloha Airlines Inc.                                                                |AQ           |2.259          |\n",
      "|Hawaiian Airlines Inc.                                                             |HA           |-1.0           |\n",
      "|Eastern Air Lines Inc.                                                             |EA           |null           |\n",
      "|Pacific Southwest Airlines                                                         |PS           |null           |\n",
      "|Pan American World Airways (1)                                                     |PA (1)       |null           |\n",
      "|Piedmont Aviation Inc.                                                             |PI           |null           |\n",
      "|Midway Airlines Inc. (1)                                                           |ML (1)       |null           |\n",
      "+-----------------------------------------------------------------------------------+-------------+---------------+\n",
      "\n"
     ]
    },
    {
     "name": "stderr",
     "output_type": "stream",
     "text": [
      "                                                                                \r"
     ]
    }
   ],
   "source": [
    "import matplotlib.pyplot as plt\n",
    "import pandas\n",
    "\n",
    "dfPlot4 = flug4\n",
    "\n",
    "fig = plt.figure(figsize=(20,5))\n",
    "ax = fig.add_axes([0,0,1,1])\n",
    "x=dfPlot.toPandas()[\"UniqueCarrier\"].values.tolist()\n",
    "y=dfPlot.toPandas()[\"DelayPercentage\"].values.tolist()\n",
    "ax.set_title('Relative Verspätungen in % der Gesamtflugzeit pro Fluggesellschaft', fontsize=20)\n",
    "ax.bar(x,y)\n",
    "plt.show()\n",
    "\n",
    "dfPlot4.show(50,truncate=False)"
   ]
  },
  {
   "cell_type": "markdown",
   "id": "6c806dd7-97a9-4f8e-96de-ca43e20e8252",
   "metadata": {},
   "source": [
    "Relativ betrachtet hat die Fluggesellschaft EV (Atlantic Southeast Airlines) die meisten Verspätungen im Verhältnis zur absoluten Flugzeit. Nämlich 19.6% der Gesamten Flugzeit. Zu erwähnen ist, dass die EV bei einer lediglich absoluten Betrachtung \"nur\" an 14. Stelle wäre, weshalb das relative Verhältnis mit der gesamten Flugzeit relevant ist, um eine Qualitäts-Aussage über die Fluggesellschaft zu fällen.\n",
    "Es fällt auf, dass die HA insgesamt früher landet als geplant (Sum of ArrDelay ist im Minus), weshalb es mit -1% am zuverlässigsten ist (oder einfach sehr langsam eingeplant :) ).\n",
    "\n",
    "Zusätzlich fällt auf, dass nach HA noch bei 5  Fluggesellschaften die AirTime nicht im Datensatz enthalten sind (bzw. mit NA geliefert). Diese werden in den Auswertungen nicht gerechnet und sind somit nicht einbezogen. Somit ist der Output von 24 Fluggesellschaften in der Grafik korrekt."
   ]
  },
  {
   "cell_type": "code",
   "execution_count": 46,
   "id": "44768aa5-c732-4429-a0d8-6311e8ccaac8",
   "metadata": {},
   "outputs": [
    {
     "name": "stderr",
     "output_type": "stream",
     "text": [
      "[Stage 68:=====================================================>  (53 + 2) / 55]\r"
     ]
    },
    {
     "name": "stdout",
     "output_type": "stream",
     "text": [
      "+-------------+------------+\n",
      "|UniqueCarrier|sum(AirTime)|\n",
      "+-------------+------------+\n",
      "|           EA|        null|\n",
      "|           PI|        null|\n",
      "|           PS|        null|\n",
      "|       ML (1)|        null|\n",
      "|       PA (1)|        null|\n",
      "+-------------+------------+\n",
      "\n"
     ]
    },
    {
     "name": "stderr",
     "output_type": "stream",
     "text": [
      "                                                                                \r"
     ]
    }
   ],
   "source": [
    "#Nachweis, dass für die \"null\" Fluggesellschaften keine AirTime-Angaben vorliegen (bei ASC kämen zuerst die NA, anschliessend die Values):\n",
    "\n",
    "controll = spark.sql(\"\"\"\n",
    "SELECT UniqueCarrier, SUM(AirTime) FROM df_air LEFT OUTER JOIN df_carr ON df_air.UniqueCarrier = df_carr.Code \n",
    "GROUP BY UniqueCarrier\n",
    "HAVING SUM(AirTime) IS NULL\n",
    "\"\"\")\n",
    "controll.show()"
   ]
  },
  {
   "cell_type": "markdown",
   "id": "33353882-4ca6-4f8d-b067-ef80eadf0cd9",
   "metadata": {},
   "source": [
    "#### Bei welchen 5 Fluggesellschaften werden die meisten Flüge gestrichen?"
   ]
  },
  {
   "cell_type": "code",
   "execution_count": 116,
   "id": "4c54c584-a9bc-4ca2-aa7a-dbc0a72f3f41",
   "metadata": {},
   "outputs": [
    {
     "name": "stderr",
     "output_type": "stream",
     "text": [
      "[Stage 404:====================================================>  (52 + 3) / 55]\r"
     ]
    },
    {
     "name": "stdout",
     "output_type": "stream",
     "text": [
      "+----------------------------+-------------+------------+-----------+---------------+\n",
      "|Description                 |UniqueCarrier|CancelledSum|TotalFluege|Canc_Percentage|\n",
      "+----------------------------+-------------+------------+-----------+---------------+\n",
      "|American Eagle Airlines Inc.|MQ           |157478      |3954895    |3.98           |\n",
      "|Mesa Airlines Inc.          |YV           |30050       |854056     |3.52           |\n",
      "|Comair Inc.                 |OH           |47174       |1464176    |3.22           |\n",
      "|Independence Air            |DH           |22176       |693047     |3.20           |\n",
      "|Eastern Air Lines Inc.      |EA           |28702       |919785     |3.12           |\n",
      "+----------------------------+-------------+------------+-----------+---------------+\n",
      "only showing top 5 rows\n",
      "\n"
     ]
    },
    {
     "name": "stderr",
     "output_type": "stream",
     "text": [
      "                                                                                \r"
     ]
    }
   ],
   "source": [
    "flug5 = spark.sql(\"\"\"\n",
    "SELECT Description, UniqueCarrier, CAST(SUM(Cancelled) AS integer) AS CancelledSum, COUNT(FlightNum) AS TotalFluege, \n",
    "    CAST(SUM(Cancelled)/COUNT(Cancelled)*100 AS decimal (9,2)) AS Canc_Percentage\n",
    "FROM df_air JOIN df_carr ON df_air.UniqueCarrier = df_carr.Code \n",
    "GROUP BY Description, UniqueCarrier \n",
    "ORDER BY Canc_Percentage DESC\"\"\")\n",
    "flug5.show(5,truncate=False)"
   ]
  },
  {
   "cell_type": "markdown",
   "id": "bf03c7c0-1dcf-4f33-ad41-21bedf09ee81",
   "metadata": {},
   "source": [
    "Auch bei dieser Frage ist für die Qulität die relative Menge zu beachten. American Eagle Airlines streichen fast jeden 25. Flug (bei 4%)."
   ]
  },
  {
   "cell_type": "markdown",
   "id": "02ec5d25-62f4-404c-a60c-c91ef0e54f04",
   "metadata": {},
   "source": [
    "#### Können Unregelmässigkeiten wie Naturkatastrophen oder Terroranschläge festgestellt werden?"
   ]
  },
  {
   "cell_type": "code",
   "execution_count": 133,
   "id": "1890f3ef-6cdc-4ed2-9aeb-3a0387821d95",
   "metadata": {},
   "outputs": [],
   "source": [
    "flug6 = spark.sql(\"SELECT Year, SUM(Cancelled) as Cancelled, COUNT(FlightNum) as TotalFluege FROM df_air GROUP BY Year ORDER BY Year ASC\")\n",
    "dfPlot6 = flug6"
   ]
  },
  {
   "cell_type": "code",
   "execution_count": 210,
   "id": "bcb15705-4833-44d9-ab92-e53f28525206",
   "metadata": {},
   "outputs": [
    {
     "data": {
      "text/plain": [
       "[<matplotlib.lines.Line2D at 0x7f9013285e50>]"
      ]
     },
     "execution_count": 210,
     "metadata": {},
     "output_type": "execute_result"
    },
    {
     "data": {
      "image/png": "[encoded data removed]",
      "text/plain": [
       "<Figure size 1440x360 with 2 Axes>"
      ]
     },
     "metadata": {
      "needs_background": "light"
     },
     "output_type": "display_data"
    }
   ],
   "source": [
    "fig = plt.figure(figsize=(20,5))\n",
    "ax = fig.add_axes([0,0,1,1])\n",
    "x=dfPlot6.toPandas()[\"Year\"].values.tolist()\n",
    "y1=dfPlot6.toPandas()[\"Cancelled\"].values.tolist()\n",
    "ax.set_title(\"Total und Abgesagte Flüge in den Jahren 1987 - 2008\", fontsize=20)\n",
    "plt.xlabel(\"Jahr\", fontsize=15)\n",
    "plt.ylabel(\"Anzahl Abgesagte Flüge (blau)\", fontsize=15, color=\"b\")\n",
    "ax.bar(x,y1)\n",
    "ax2 = plt.twinx()\n",
    "ax2.set_ylabel(\"Anzahl Flugbewegungen (rot)\", color =\"r\", fontsize=15)\n",
    "plt.plot(dfPlot6.toPandas()[\"Year\"], dfPlot6.toPandas()[\"TotalFluege\"], color='red')"
   ]
  },
  {
   "cell_type": "markdown",
   "id": "34609b6a-1817-4b80-9c21-52eb29bcce3c",
   "metadata": {},
   "source": [
    "Die Grafik zeigt, dass die Flugbewegungen vom Jahr 2001 ins 2002 einen Einbruch von ca. 10% erlitten (roter Knick in der Grafik), Nachweis Werte unten."
   ]
  },
  {
   "cell_type": "code",
   "execution_count": 211,
   "id": "4ddfb0c8-0a28-4209-8352-8dccfedc1f36",
   "metadata": {},
   "outputs": [
    {
     "name": "stderr",
     "output_type": "stream",
     "text": [
      "[Stage 769:==============================================>        (46 + 9) / 55]\r"
     ]
    },
    {
     "name": "stdout",
     "output_type": "stream",
     "text": [
      "+----+---------+-----------+\n",
      "|Year|Cancelled|TotalFluege|\n",
      "+----+---------+-----------+\n",
      "|2001| 231198.0|    5967780|\n",
      "|2002|  65143.0|    5271359|\n",
      "+----+---------+-----------+\n",
      "\n"
     ]
    },
    {
     "name": "stderr",
     "output_type": "stream",
     "text": [
      "                                                                                \r"
     ]
    }
   ],
   "source": [
    "from pyspark.sql.functions import col\n",
    "flug6.filter(col(\"Year\").rlike(\"2001|2002\")).show()"
   ]
  },
  {
   "cell_type": "markdown",
   "id": "a1f48a14-3674-4847-8b50-95c194cb1852",
   "metadata": {},
   "source": [
    "Nachfolgend prüfen wir, wie nahe diese mit dem Terroranschlag von 9/11 (am (11.09.2001) in der USA zu tun hat."
   ]
  },
  {
   "cell_type": "code",
   "execution_count": 212,
   "id": "251174df-7dc7-4cda-85d3-d9b504d9725e",
   "metadata": {},
   "outputs": [],
   "source": [
    "flug7 = spark.sql(\"\"\"\n",
    "SELECT CAST(Month AS integer), SUM(Cancelled) as Cancelled, COUNT(FlightNum) as TotalFluege \n",
    "FROM df_air \n",
    "WHERE Year = \"2001\"\n",
    "GROUP BY MONTH\"\"\").orderBy(\"Month\")"
   ]
  },
  {
   "cell_type": "code",
   "execution_count": 213,
   "id": "bcf21a88-609a-46ea-a2cb-0680e958e0bf",
   "metadata": {},
   "outputs": [
    {
     "name": "stderr",
     "output_type": "stream",
     "text": [
      "                                                                                \r"
     ]
    },
    {
     "name": "stdout",
     "output_type": "stream",
     "text": [
      "+-----+---------+-----------+\n",
      "|Month|Cancelled|TotalFluege|\n",
      "+-----+---------+-----------+\n",
      "|    1|  19891.0|     529940|\n",
      "|    2|  17448.0|     477824|\n",
      "|    3|  17876.0|     531119|\n",
      "|    4|  11414.0|     514187|\n",
      "|    5|   9452.0|     529940|\n",
      "|    6|  15509.0|     520230|\n",
      "|    7|  11286.0|     538440|\n",
      "|    8|  13318.0|     544351|\n",
      "|    9|  99324.0|     490698|\n",
      "|   10|   6850.0|     443796|\n",
      "|   11|   4497.0|     417386|\n",
      "|   12|   4333.0|     429869|\n",
      "+-----+---------+-----------+\n",
      "\n"
     ]
    },
    {
     "data": {
      "image/png": "[encoded data removed]",
      "text/plain": [
       "<Figure size 1440x360 with 2 Axes>"
      ]
     },
     "metadata": {
      "needs_background": "light"
     },
     "output_type": "display_data"
    }
   ],
   "source": [
    "dfPlot7 = flug7\n",
    "\n",
    "fig = plt.figure(figsize=(20,5))\n",
    "ax = fig.add_axes([0,0,1,1])\n",
    "x=dfPlot7.toPandas()[\"Month\"].values.tolist()\n",
    "y1=dfPlot7.toPandas()[\"Cancelled\"].values.tolist()\n",
    "ax.set_title('Total und Cancelled Flüge im Jahr 2001 pro Monat', fontsize=20)\n",
    "plt.xlabel(\"Monat\", fontsize=15)\n",
    "plt.ylabel(\"Anzahl Cancelled Flüge (blau)\", fontsize=15, color=\"b\")\n",
    "ax.bar(x,y1)\n",
    "ax2 = plt.twinx()\n",
    "ax2.set_ylabel(\"Total Flüge (rot)\", color =\"r\", fontsize=15)\n",
    "plt.plot(dfPlot7.toPandas()[\"Month\"], dfPlot7.toPandas()[\"TotalFluege\"], color='red')\n",
    "flug7.show()"
   ]
  },
  {
   "cell_type": "markdown",
   "id": "d8299e28-28a2-4212-8a6f-dbaed5e97d8e",
   "metadata": {},
   "source": [
    "In der obigen Grafik ist sehr gut ersichtlich, dass im September 2001 sehr viele Flüge gecancelled wurden und die ANzahl Flüge von vorherüber 540'000/Monat auf noch etwas über 400'000 Flüge pro Monat ausgeführt wurden."
   ]
  },
  {
   "cell_type": "code",
   "execution_count": 205,
   "id": "2ff09ac0-49c8-4108-8a99-422bdab8d685",
   "metadata": {},
   "outputs": [],
   "source": [
    "flug8 = spark.sql(\"\"\"\n",
    "SELECT CAST(DayofMonth AS integer), SUM(Cancelled) as Cancelled, COUNT(FlightNum) as TotalFluege \n",
    "FROM df_air \n",
    "WHERE Year = \"2001\" AND Month = \"9\"\n",
    "GROUP BY DayOfMonth\"\"\").orderBy(\"DayofMonth\")"
   ]
  },
  {
   "cell_type": "code",
   "execution_count": 214,
   "id": "60ac30b9-c275-4d76-b2b0-6ec938b94c26",
   "metadata": {},
   "outputs": [
    {
     "name": "stderr",
     "output_type": "stream",
     "text": [
      "                                                                                \r"
     ]
    },
    {
     "name": "stdout",
     "output_type": "stream",
     "text": [
      "+----------+---------+-----------+\n",
      "|DayofMonth|Cancelled|TotalFluege|\n",
      "+----------+---------+-----------+\n",
      "|         1|    196.0|      14657|\n",
      "|         2|    155.0|      14365|\n",
      "|         3|    158.0|      16818|\n",
      "|         4|    489.0|      17714|\n",
      "|         5|    324.0|      17649|\n",
      "|         6|    318.0|      17648|\n",
      "|         7|    594.0|      17672|\n",
      "|         8|    375.0|      15697|\n",
      "|         9|    300.0|      16822|\n",
      "|        10|    661.0|      17566|\n",
      "|        11|  14962.0|      17503|\n",
      "|        12|  17535.0|      17536|\n",
      "|        13|  16109.0|      17554|\n",
      "|        14|   9611.0|      17356|\n",
      "|        15|   5573.0|      15207|\n",
      "|        16|   4297.0|      16540|\n",
      "|        17|   3518.0|      17226|\n",
      "|        18|   3402.0|      17201|\n",
      "|        19|   2888.0|      17209|\n",
      "|        20|   2946.0|      17195|\n",
      "|        21|   2970.0|      17199|\n",
      "|        22|   2457.0|      14888|\n",
      "|        23|   1902.0|      15754|\n",
      "|        24|   1515.0|      15818|\n",
      "|        25|   1421.0|      15746|\n",
      "|        26|   1312.0|      15667|\n",
      "|        27|    987.0|      15380|\n",
      "|        28|    643.0|      15079|\n",
      "|        29|   1070.0|      13666|\n",
      "|        30|    636.0|      14366|\n",
      "+----------+---------+-----------+\n",
      "\n"
     ]
    },
    {
     "data": {
      "image/png": "[encoded data removed]",
      "text/plain": [
       "<Figure size 1440x360 with 2 Axes>"
      ]
     },
     "metadata": {
      "needs_background": "light"
     },
     "output_type": "display_data"
    }
   ],
   "source": [
    "dfPlot8 = flug8\n",
    "\n",
    "fig = plt.figure(figsize=(20,5))\n",
    "ax = fig.add_axes([0,0,1,1])\n",
    "x=dfPlot8.toPandas()[\"DayofMonth\"].values.tolist()\n",
    "y1=dfPlot8.toPandas()[\"Cancelled\"].values.tolist()\n",
    "ax.set_title('Total und Cancelled Flüge im Monat September 2001 (Terroranschlag in der USA)', fontsize=20)\n",
    "plt.xlabel(\"DayofMonth\", fontsize=15)\n",
    "plt.ylabel(\"Anzahl Cancelled Flüge (blau)\", fontsize=15, color=\"b\")\n",
    "ax.bar(x,y1)\n",
    "ax2 = plt.twinx()\n",
    "ax2.set_ylabel(\"Total Flüge (rot)\", color =\"r\", fontsize=15)\n",
    "plt.plot(dfPlot8.toPandas()[\"DayofMonth\"], dfPlot8.toPandas()[\"TotalFluege\"], color='red')\n",
    "flug8.show(31)"
   ]
  },
  {
   "cell_type": "markdown",
   "id": "db84e4b0-6734-404b-8f9f-b05d2c674fef",
   "metadata": {},
   "source": [
    "Der Tag des Terrors seigt sich ganz klar in den Anzahl abgesagten Flügen ab dem 11.9.2001. Der Rückgang der Flugbewegungen hatte eine leichte Verzögerung von ca. 1 Woche."
   ]
  },
  {
   "cell_type": "code",
   "execution_count": 215,
   "id": "d804454e-bd4f-49bb-99ef-6288d459377d",
   "metadata": {},
   "outputs": [],
   "source": [
    "spark.stop()"
   ]
  },
  {
   "cell_type": "code",
   "execution_count": null,
   "id": "042e9eda-649c-419a-b197-ec8beb595198",
   "metadata": {},
   "outputs": [],
   "source": []
  }
 ],
 "metadata": {
  "kernelspec": {
   "display_name": "Python 3 (ipykernel)",
   "language": "python",
   "name": "python3"
  },
  "language_info": {
   "codemirror_mode": {
    "name": "ipython",
    "version": 3
   },
   "file_extension": ".py",
   "mimetype": "text/x-python",
   "name": "python",
   "nbconvert_exporter": "python",
   "pygments_lexer": "ipython3",
   "version": "3.8.10"
  }
 },
 "nbformat": 4,
 "nbformat_minor": 5
}
