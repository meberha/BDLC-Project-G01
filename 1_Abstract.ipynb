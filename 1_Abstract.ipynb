{
 "cells": [
  {
   "cell_type": "markdown",
   "id": "397e99c7-cf93-43d1-b758-f8fbe442375f",
   "metadata": {},
   "source": [
    "### Einleitung\n",
    "\n",
    "Um das Wissen, welches wir im Modul Big Data Lab Cluster erlernten, zu vertiefen, konnten wir eine Projektarbeit durchführen. Diese umfasste den kompletten Prozess vom Erstellen eines Clusters bis zur Auswertung der Daten.\n",
    "\n",
    "Zu Beginn stand die Konfiguration unserer drei virtuellen Maschinen für den Clusterverbund an, gleichzeitig machten wir uns auch bereits auf die Suche, welches Datenset wir auswerten möchten. Dabei stiessen wir unter www.kaggle.com  auf das «Airline on-time Performance Data» Datenset, welches die Flugdaten der Inlandflüge in den USA von 1987 bis 2008 beinhaltet. Wir entschieden uns schnell für dieses Datenset, mit welchem wir die Hauptfrage «Ist im Datenset der Einfluss von 9-11 im Flugverkehr quantifizierbar?» beantworten wollen. \n",
    "\n",
    "Das Datenset von www.kaggle.com wurde mittels der API von Kaggle heruntergeladen, um es anschliessend im HDFS von Hadoop verteilt zu speichern. Danach wurde das Schema des Datenset inspiziert und als Parquet gespeichert. Mit SPARK machten wir uns anschliessend an die Analyse des >12GB grossen Datenset. Wie es uns dabei ergangen ist und wie gross die Veränderungen im Flugverkehr nach dem Terroranschlag waren, kann in den weiteren Abschnitten entnommen werden. "
   ]
  },
  {
   "cell_type": "code",
   "execution_count": null,
   "id": "db33bf07-23d0-4c08-83b1-1cb3829830d9",
   "metadata": {},
   "outputs": [],
   "source": []
  }
 ],
 "metadata": {
  "kernelspec": {
   "display_name": "Python 3 (ipykernel)",
   "language": "python",
   "name": "python3"
  },
  "language_info": {
   "codemirror_mode": {
    "name": "ipython",
    "version": 3
   },
   "file_extension": ".py",
   "mimetype": "text/x-python",
   "name": "python",
   "nbconvert_exporter": "python",
   "pygments_lexer": "ipython3",
   "version": "3.8.10"
  }
 },
 "nbformat": 4,
 "nbformat_minor": 5
}
