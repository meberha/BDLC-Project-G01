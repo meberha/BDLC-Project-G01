{
 "cells": [
  {
   "cell_type": "markdown",
   "id": "397e99c7-cf93-43d1-b758-f8fbe442375f",
   "metadata": {},
   "source": [
    "### Einleitung\n",
    "\n",
    "Um das Wissen zu vertiefen welches wir im Modul Big Data Lab Cluster lernten, konnten wir eine Projektarbeit durchführen, welche den kompletten Prozess vom Erstellen eines Clusters bis zur Auswertung der Daten abbildet.\n",
    "\n",
    "Zu Beginn stand die Konfiguration unserer drei virtuellen Maschinen für den Clusterverbund an, gleichzeitig machten wir uns auch bereits auf die Suche welches Datenset wir auswerten möchten. Dabei stiessen wir unter www.kaggle.com  auf das «Airline on-time Performance Data» Datenset welches die Flugdaten der Inlandflüge in den USA von 1987 bis 2008 beinhaltet. Wir entschieden uns schnell für dieses Datenset, mit welchem wir die Hauptfrage «Welche Fluggesellschaften haben prozentual (+/-) die grössten Abweichungen der geplanten Flugzeit zur effektiven Flugzeit (geplante Abflugzeit bis effektive Ankunftszeit)?» beantworten wollen. \n",
    "\n",
    "Das Datenset von www.kaggle.com wurde mittels der API von Kaggle heruntergeladen um dann das Datenset im HDFS von Hadoop zu speichern. Danach wurde das Schema des Datenset inspiziert und als Parquet gespeichert. Mit SPARK machten wir uns dann an die Analyse des Datenset. Wie es uns dabei ergangen ist und welche Fluggesellschaften die grössten Verspätungen haben kann in den weiteren abschnitten entnommen werden. "
   ]
  }
 ],
 "metadata": {
  "kernelspec": {
   "display_name": "Python 3 (ipykernel)",
   "language": "python",
   "name": "python3"
  },
  "language_info": {
   "codemirror_mode": {
    "name": "ipython",
    "version": 3
   },
   "file_extension": ".py",
   "mimetype": "text/x-python",
   "name": "python",
   "nbconvert_exporter": "python",
   "pygments_lexer": "ipython3",
   "version": "3.8.10"
  }
 },
 "nbformat": 4,
 "nbformat_minor": 5
}
